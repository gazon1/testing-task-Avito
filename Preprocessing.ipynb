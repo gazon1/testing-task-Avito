{
  "nbformat": 4,
  "nbformat_minor": 0,
  "metadata": {
    "colab": {
      "name": "Preprocessing",
      "version": "0.3.2",
      "provenance": [],
      "collapsed_sections": []
    },
    "kernelspec": {
      "name": "python3",
      "display_name": "Python 3"
    }
  },
  "cells": [
    {
      "cell_type": "code",
      "metadata": {
        "colab_type": "code",
        "id": "nnBx3UoETtoI",
        "colab": {}
      },
      "source": [
        "!pip3 install pymorphy2\n",
        "!pip3 install pymystem3 --upgrade"
      ],
      "execution_count": 0,
      "outputs": []
    },
    {
      "cell_type": "code",
      "metadata": {
        "id": "5sdyoC5FKWeK",
        "colab_type": "code",
        "colab": {}
      },
      "source": [
        "# подключаем гугл диск\n",
        "from google.colab import drive\n",
        "drive.mount('/content/gdrive')\n",
        "\n",
        "import pandas as pd\n",
        "\n",
        "from tqdm import tqdm\n",
        "tqdm.pandas()\n",
        "\n",
        "import os\n",
        "\n",
        "# text preprocessing\n",
        "import re\n",
        "from pymystem3 import Mystem\n",
        "\n",
        "DATA_PATH = '/content/gdrive/My Drive/avito'"
      ],
      "execution_count": 0,
      "outputs": []
    },
    {
      "cell_type": "code",
      "metadata": {
        "id": "j4JXKKMuKo-u",
        "colab_type": "code",
        "colab": {}
      },
      "source": [
        "# избавимся от os.path.join при чтении и записи датафрейма\n",
        "\n",
        "def read_data(file, **args):\n",
        "    return pd.read_csv(os.path.join(DATA_PATH, file), **args)\n",
        "\n",
        "def save_data(df, file, **args):\n",
        "    df.to_csv(os.path.join(DATA_PATH, file), index=False, **args)"
      ],
      "execution_count": 0,
      "outputs": []
    },
    {
      "cell_type": "markdown",
      "metadata": {
        "id": "QpXCA0GkMEOZ",
        "colab_type": "text"
      },
      "source": [
        "# Лемматизация\n"
      ]
    },
    {
      "cell_type": "code",
      "metadata": {
        "id": "WZVpkL7zNDpZ",
        "colab_type": "code",
        "colab": {}
      },
      "source": [
        "def lemmatize(file):\n",
        "    \"\"\"\n",
        "    Лемматизирует desciption и title и приводит их к \n",
        "    нижнему регистру\n",
        "    \n",
        "    file: csv файл с колонками 'title' и 'desciption'\n",
        "    \"\"\"\n",
        "    data = self.read_data(file)\n",
        "    assert('title' in data.columns and 'desciption' in data.columns)\n",
        "    data.title = data.title.str.lower()\n",
        "    data.description = data.description.str.lower()\n",
        "\n",
        "    m = Mystem()\n",
        "    def lemmatize_by_row(text):\n",
        "        lemmas = m.lemmatize(text)\n",
        "        return ''.join(lemmas)\n",
        "\n",
        "    data.title = data.title.progress_apply(lemmatize_by_row)\n",
        "    data.description = data.description.progress_apply(lemmatize_by_row)\n",
        "\n",
        "    return data"
      ],
      "execution_count": 0,
      "outputs": []
    },
    {
      "cell_type": "code",
      "metadata": {
        "id": "Q36xF6uBLUc6",
        "colab_type": "code",
        "colab": {}
      },
      "source": [
        "if not \"train_lemmatized.csv\" in os.listdir(DATA_PATH):\n",
        "    train = lemmatize('train.csv')\n",
        "    save_data(train, \"train_lemmatized.csv\")"
      ],
      "execution_count": 0,
      "outputs": []
    },
    {
      "cell_type": "code",
      "metadata": {
        "id": "ZXCy039OMQMp",
        "colab_type": "code",
        "colab": {}
      },
      "source": [
        "if not \"test_lemmatized.csv\" in os.listdir(DATA_PATH):\n",
        "    train = lemmatize('test.csv')\n",
        "    save_data(train, \"test_lemmatized.csv\")"
      ],
      "execution_count": 0,
      "outputs": []
    },
    {
      "cell_type": "markdown",
      "metadata": {
        "id": "OQUhEW9pL7Hf",
        "colab_type": "text"
      },
      "source": [
        "# Удаляем пунктуацию, стоп-слова"
      ]
    },
    {
      "cell_type": "code",
      "metadata": {
        "id": "JH8Z-b9pNUuh",
        "colab_type": "code",
        "colab": {}
      },
      "source": [
        "def clean_str(s):\n",
        "    # удаляет пунктуацию\n",
        "    s = re.sub(r\"[0-9]|-|\\/|\\(|\\)|,|\\.|:|;|!|\\+|\\-|_|«|»|\\\"|\\'\", ' ', s)\n",
        "\n",
        "    # убирает слова, которы меньше 2\n",
        "    s = re.sub(r\"\\b\\w{1,2}\\b\", ' ' ,s)\n",
        "    return \" \".join(s.split())\n",
        "  \n",
        "\n",
        "def preprocces_df(data):\n",
        "    data.title = data.title.progress_apply(clean_str)\n",
        "    data.description = data.description.progress_apply(clean_str)\n",
        "    return data"
      ],
      "execution_count": 0,
      "outputs": []
    },
    {
      "cell_type": "code",
      "metadata": {
        "id": "pFHr0HzyUDU0",
        "colab_type": "code",
        "colab": {}
      },
      "source": [
        "if not \"preprocessed_train.csv\" in os.listdir(DATA_PATH):\n",
        "    data = read_data(\"train_lemmatized.csv\")\n",
        "    data = preprocces_df(data)\n",
        "    save_data(data, \"preprocessed_train.csv\")"
      ],
      "execution_count": 0,
      "outputs": []
    },
    {
      "cell_type": "code",
      "metadata": {
        "id": "FqVmFiitLTnp",
        "colab_type": "code",
        "colab": {}
      },
      "source": [
        "if not \"preprocessed_test.csv\" in os.listdir(DATA_PATH):\n",
        "    data = read_data(\"test_lemmatized.csv\")\n",
        "    data = preprocces_df(data)\n",
        "    save_data(data, \"preprocessed_test.csv\")"
      ],
      "execution_count": 0,
      "outputs": []
    },
    {
      "cell_type": "markdown",
      "metadata": {
        "id": "6iqJ_1_hSVq_",
        "colab_type": "text"
      },
      "source": [
        "# Подготавливаем датасет для  fasttext"
      ]
    },
    {
      "cell_type": "code",
      "metadata": {
        "id": "S2eoplq4Si5S",
        "colab_type": "code",
        "colab": {}
      },
      "source": [
        "def prepare_data_for_fasttext(data, file, mode):\n",
        "    \"\"\"\n",
        "    Преобразует csv файл к формату \"__LABEL__<category_id> title+desciption\"\n",
        "    \n",
        "    mode: train или test. Это нужно для того, чтобы понимать, есть ли у нас\n",
        "    category_id в файле или нет\n",
        "    data: dataframe с колонкаи title, description (и category_id если нужно\n",
        "    подготовить данные для обучения)\n",
        "    file: название файла для записи туда преобразованные данные    \n",
        "    \"\"\"\n",
        "    if mode == \"train\":\n",
        "        with open(os.path.join(DATA_PATH, file), 'w') as f:\n",
        "            for category_id, title, description in tqdm(data.loc[:, ['category_id', 'title', 'description']].values):\n",
        "                s = title + \" \" + description\n",
        "                s = f\"__label__{category_id}\" + \" \" + s\n",
        "                print(s, file=f)\n",
        "    elif mode == \"test\":\n",
        "        with open(os.path.join(DATA_PATH, file), 'w') as f:\n",
        "            for title, description in tqdm(data.loc[:, ['title', 'description']].values):\n",
        "                s = title + \" \" + description\n",
        "                print(s, file=f)   \n",
        "    else:\n",
        "      raise RuntimeError(f\"Uknown mode given: {mode}! only train and test modes are available\")"
      ],
      "execution_count": 0,
      "outputs": []
    },
    {
      "cell_type": "code",
      "metadata": {
        "id": "gDBEsMRzSbZz",
        "colab_type": "code",
        "colab": {}
      },
      "source": [
        "if not \"fasttext_input.txt\" in os.listdir(DATA_PATH):\n",
        "    data = read_data(\"preprocessed_train.csv\")\n",
        "    data.fillna(\"\", inplace=True)\n",
        "    prepare_data_for_fasttext(data, 'fasttext_input.txt', \"train\")"
      ],
      "execution_count": 0,
      "outputs": []
    },
    {
      "cell_type": "code",
      "metadata": {
        "id": "qwkXxsAONN38",
        "colab_type": "code",
        "outputId": "c9a36bff-dcaf-4056-f975-69c3d77c1243",
        "colab": {
          "base_uri": "https://localhost:8080/",
          "height": 211
        }
      },
      "source": [
        "!head /content/gdrive/My\\ Drive/avito/fasttext_input.txt"
      ],
      "execution_count": 18,
      "outputs": [
        {
          "output_type": "stream",
          "text": [
            "__label__19 картина гобелен размер\n",
            "__label__22 стул прессованный кожа продавать недорого стул светлый прессованный кожа стильный ножка дугообразный\n",
            "__label__37 домашний мини баня мини баня мини сауна предназначать для принятие тепловой процедура бытовой условие дом дача также спортивный оздоровительный косметический лечебный организация учреждение она оказывать общеукрепляющий профилактический действие организм человек номинальный напряжение переменный ток максимальный мощность максимальный температура нагревать воздух термочехол градус – время достижение рабочий температура мина время достижение максимальный температура мина габаритный размер тепловой камера рабочий состояние более длина ширина высота масса мини баня становиться отличный подарок как для мужчина так для женщина\n",
            "__label__43 эксклюзивный коллекция книга трансаэро подарок продавать эксклюзивный коллекция книга выпускать ограниченный тираж заказ авиакомпания трансаэро серия детектив трансаэро коллекция входить книга габорио эмиль дело № честертон рассказ патер браун конан дойл плясать человечек рассказ шерлок холмс эдгар аллан убийство улица морг киплинг джозеф редьярд ким леблан морис графиня калиостро гофман песочный человек стивенсон странный история доктор джекила мистер хайда лера призрак опера пунсон террайль клуб червонный валет роман серия похождение рокамболь весь книга присутствовать логотип авиакомпания тансаэро книга абсолютно новый идеальный состояние размер один книга книга можно приобретать как отдельность так весь вместе цена один книга отдельность – рубль при приобретение весь коллекция книга – скидка – рубль весь комплект подарок эксклюзивный чайная кофейный пара – кружок блюдце – логотип авиакомпания трансаэро фото № выпускаться заказ авиакомпания ограниченный серия также иметься серия классик мировой литература хороший книга путешествие книга – номер объявление весь вопрос писать звонить ****** вариант встреча * самовывоз улица наримановский * приносить метро преображенский площадь или бульвар рокоссовский * доставка ваш станция метро рубль * доставка ваш адрес москва рубль ******\n",
            "__label__1 ноутбук aser продаваться ноутбук acer купить конец ноябрь вообще пользоваться пригождаться подробность телефон\n",
            "__label__50 бас гитара invasion состояние хороший иметься теплый чехол\n",
            "__label__41 смесь грудничок зеленодольск смесь молочный адаптировать ультрапастеризовать грудничок зеленодольск срок годность год наличие штука цена рубль район городской парк\n",
            "__label__36 shock часы абсолютно новый коробка часы китай быть подарить новый год понравиться приобретать другой этот больше нужный стильный часы который подходить любой мужчина водонепроницаемость усиленный корпус удобный каучуковый ремешок богатый функционал общий характеристика тип кварцевый унисекс способ отображение время аналоговый цифровой формат час секундный стрелка отсутствовать цифра показывать источник энергия батарейка противоударный водонепроницаемый атма материал корпус пластик материал браслет ремешок пластик стекло минеральный габарит шхвхт вес особенность точность ход мес отображение дата вечный календарь число месяц день неделя спорт функция секундомер таймер обратный отсчет дополнительный функция второй часовой пояс будильник количество установка подсветка дисплей стрелок дополнительный информация повтор сигнал будильник ежечасный сигнал функция включение отключение звук кнопка элемент питание × срок служба батарейка год\n",
            "__label__48 санаторий белоруссия лепельский военный санаторий белоруссия лепельский военный цена человек руб сут пакет проживание разовый питание цена человек руб сут пакет проживание разовый питание лечение назначение врач лепельский военный санаторий располагать город лепель вдали крупный населенный пункт живописно холмистый местность покрывать сосновый лес санаторий стоять возвышенный перешеек между два большой глубоководный озеро чистый вода большой озеро берег который находиться здание столовая пляж лодочный станция называться бобриц меньший противоположный сторона – щибот общий площадь озеро составлять много лепельщина живописный уголок беларусь территория санаторий произрастать сосна ель береза клен дуб территория огораживать забор охраняться пляж располагать беседка для отдых стационарный мангал профиль гинекологический заболевание заболевание желудочно кишечный тракт заболевание нервный система заболевание опорный двигательный аппарат болезнь костный мышечный система заболевание орган дыхание лор орган заболевание сердечно сосудистый система система кровообращение заболевание эндокринный система расстройство питание нарушение обмен вещество более подробный информация можно нужно получать менеджер звонить\n",
            "__label__19 фотохолст фотохолст подрамник галерейный натяжка ширина торцевой часть отлично подходить для украшение интерьер хороший вариант качество подарок так мочь подбирать другой изображение под любой интерьер выполнять они любой размер для печать использовать только свой фотография высокий качество как ознакомляться они объяснять телефон так мочь производить печать натяжка ваш изображение возможный индивидуальный проектирование модульный картина принимать звонок любой время\n"
          ],
          "name": "stdout"
        }
      ]
    },
    {
      "cell_type": "code",
      "metadata": {
        "id": "KdblOnOgSgew",
        "colab_type": "code",
        "outputId": "b38998ea-541b-44ed-e17e-47d6e6dec0e3",
        "colab": {
          "base_uri": "https://localhost:8080/",
          "height": 34
        }
      },
      "source": [
        "if not \"preprocessed_test.txt\" in os.listdir(DATA_PATH):\n",
        "    data = read_data(\"preprocessed_test.csv\")\n",
        "    data.fillna(\"\", inplace=True)\n",
        "    prepare_data_for_fasttext(data, 'fasttext_test.txt', \"test\")"
      ],
      "execution_count": 0,
      "outputs": [
        {
          "output_type": "stream",
          "text": [
            "100%|██████████| 243166/243166 [00:01<00:00, 146872.14it/s]\n"
          ],
          "name": "stderr"
        }
      ]
    },
    {
      "cell_type": "code",
      "metadata": {
        "id": "FKondPXCcp5a",
        "colab_type": "code",
        "outputId": "6f461955-b0c9-4b8e-8b98-f86fe87d7b4c",
        "colab": {
          "base_uri": "https://localhost:8080/",
          "height": 211
        }
      },
      "source": [
        "!head /content/gdrive/My\\ Drive/avito/fasttext_test.txt"
      ],
      "execution_count": 0,
      "outputs": [
        {
          "output_type": "stream",
          "text": [
            "стоик журнальный сталь продавать журнальный столик изготовлять стол полировать нержавеющий сталь стекло или камень весь продукция давать гарантия стоимость зависеть размер дизайн\n",
            "iphone телефон хороший состояние комплект гарантия салон сотовый связь огромный выбор аксессуар запчасть новый сотовый телефон возможный обмен ремонт сотовый телефон график работа\n",
            "утеплитель теплопельный лидер тепло толщина утеплитель утеплитель безопасный для человек окружающий среда состав утеплитель основа полиэтилен отражать слой чистый алюминиевый фольга металлизировать лавсановый или полипропиленовый пленка весь этот компонент широко использоваться быт пищевой промышленность медицина обладать очень низкий стабильный коэффициент теплопроводность высокий процент теплоотражение эффективно сохранять тепло зима прохлада лето также утеплитель пропускать пар впитывать влага обладать хороший шумоизоляция основной свойство материал низкий теплопроводность теплоотражение экологический безопасность долговечность водо паронепроницаемость шумопоглощение вибропоглощение стойкость гниение воздействие грибок химический биологический стойкость эластичность малый процент остаточный деформация температура применение работать розница опт быть доставка монтаж прайс запрос\n",
            "пальто демисезонный продавать пальто женский букле отличный состояние длина изделие длина рукав классический крой пальто подходить для носок брюки платье только наличный расчет\n",
            "samsung syncmaster условно рабочий проблема панель настройка монитор сам переключать режим откликаться нажатие смотреть первый фото чем проблема знать просто переставать работать боковой панель клавиша жить свой жизнь под ремонт или запчасть\n",
            "дверь profil doors дверь межкомнатный profildoors серия производство компания profildoors представлять широкий ассортимент царговый дверь основной преимущество который являться высокий прочность сборный разборный конструкция дверь изготавливаться принцип “сэндвич мдф массив сосна что позволять добиваться максимальный жесткость конструкция дверь рассыхаться деформироваться под воздействие влага перепад температура помимо прочность долговременный эксплуатация дверь серия способствовать заменяемость весь составлять любой деталь или стекло при повреждение подлежать замена что частность невозможный при монолитный дверной полотно при желание деталь можно заменять самостоятельно или заказывать ремонт дилер profildoors внешний покрытие этот полипропиленовый пленка натурально имитировать различный древесный фактура являться экологически безопасный что позволять устанавливать дверь детский сад больница другой общественный учреждение кроме покрытие выгорать под воздействие солнечный луч устойчиво химический воздействие что немаловажный растрескиваться отслаиваться перепад температура механический воздействие основной характеристика межкомнатный дверь серия – сборный разборный конструкция исключение позиция – телескопический погонаж позволять крепить наличник без гвоздь – серия иметь заводской врезка комплектоваться завод фурнитура – экологический безопасность весь применять материал\n",
            "новый cort отличный состояние коробка добрый время сутки томич срочно нужный деньги связь это продавать свой родной cort отличный гитара отличный состояние покупать месяц назад рубль очень серьезно следить состояние хранить только родной заводской коробка этот смело называть она новый\n",
            "кресло продаваться кресла хороший состояние два\n",
            "сверх быстрый yotaphone разбивать дисплей когда экран работать трещина почти видно только уголок пара кусочек отлетать пользоваться аккуратно давать отец телефон день все продавать дешево срочно нужный деньги автошкола торг если телефон выключать писать смс авито\n",
            "люстра artelamp medici внимание распродажа люстра artelamp medici параметр ширина высота мощность патрон напряжение прозрачный коричневый хрустальный подвесок цвет плафон металл белый коричневый наличие цена заказ принимать\n"
          ],
          "name": "stdout"
        }
      ]
    },
    {
      "cell_type": "code",
      "metadata": {
        "id": "7Mc0fyhEZ9-p",
        "colab_type": "code",
        "outputId": "216c33fa-af23-4aa9-95d6-f0bdde111da2",
        "colab": {
          "base_uri": "https://localhost:8080/",
          "height": 52
        }
      },
      "source": [
        "%%shell\n",
        "wc  /content/gdrive/My\\ Drive/avito/fasttext_input.txt\n",
        "wc  /content/gdrive/My\\ Drive/avito/fasttext_test.txt"
      ],
      "execution_count": 0,
      "outputs": [
        {
          "output_type": "stream",
          "text": [
            "   489517  16172964 225688054 /content/gdrive/My Drive/avito/fasttext_input.txt\n",
            "   243166   7761565 108643083 /content/gdrive/My Drive/avito/fasttext_test.txt\n"
          ],
          "name": "stdout"
        },
        {
          "output_type": "execute_result",
          "data": {
            "text/plain": [
              ""
            ]
          },
          "metadata": {
            "tags": []
          },
          "execution_count": 112
        }
      ]
    },
    {
      "cell_type": "markdown",
      "metadata": {
        "id": "EA06VSY2d4z0",
        "colab_type": "text"
      },
      "source": [
        "# Делим выборку на train и validation"
      ]
    },
    {
      "cell_type": "code",
      "metadata": {
        "id": "if0wTluEdrvb",
        "colab_type": "code",
        "outputId": "2dd4d0b8-af08-4e0a-e618-fba45ad29f53",
        "colab": {
          "base_uri": "https://localhost:8080/",
          "height": 17
        }
      },
      "source": [
        "%%shell\n",
        "\n",
        "head -n 398400 /content/gdrive/My\\ Drive/avito/fasttext_input.txt > fastText/fasttext_input.train.txt\n",
        "tail -n 91117 /content/gdrive/My\\ Drive/avito/fasttext_input.txt > fastText/fasttext_input.val.txt\n",
        "\n",
        "head -n 398400 /content/gdrive/My\\ Drive/avito/preprocessed_train.csv > /content/gdrive/My\\ Drive/avito/preprocessed_train.train.csv\n",
        "tail -n 91117 /content/gdrive/My\\ Drive/avito/preprocessed_train.csv > /content/gdrive/My\\ Drive/avito/preprocessed_train.val.csv"
      ],
      "execution_count": 0,
      "outputs": [
        {
          "output_type": "execute_result",
          "data": {
            "text/plain": [
              ""
            ]
          },
          "metadata": {
            "tags": []
          },
          "execution_count": 118
        }
      ]
    },
    {
      "cell_type": "code",
      "metadata": {
        "id": "t_-Y0d1jiezw",
        "colab_type": "code",
        "colab": {}
      },
      "source": [
        "# сохраним заголовки в preprocessed_train.val.csv\n",
        "train = read_data(\"preprocessed_train.train.csv\")\n",
        "val = read_data(\"preprocessed_train.val.csv\", header=None, names=train.columns)\n",
        "save_data(val, \"preprocessed_train.val.csv\")"
      ],
      "execution_count": 0,
      "outputs": []
    },
    {
      "cell_type": "markdown",
      "metadata": {
        "id": "xDJGluIdfwil",
        "colab_type": "text"
      },
      "source": [
        "проверим, что распределение целевой переменной на трейне и валидации совпадает с распределением на всей тренировочной выборке"
      ]
    },
    {
      "cell_type": "code",
      "metadata": {
        "id": "Zbs-5cYLgTTa",
        "colab_type": "code",
        "colab": {}
      },
      "source": [
        "import matplotlib.pyplot as plt"
      ],
      "execution_count": 0,
      "outputs": []
    },
    {
      "cell_type": "code",
      "metadata": {
        "id": "0RJvsS5Tftfl",
        "colab_type": "code",
        "outputId": "e64dbc9a-543f-4626-9cc0-ab2722b7e37a",
        "colab": {
          "base_uri": "https://localhost:8080/",
          "height": 281
        }
      },
      "source": [
        "fig, axes = plt.subplots(ncols=3, nrows=1, figsize=(15, 4))\n",
        "\n",
        "train = read_data(\"preprocessed_train.train.csv\")\n",
        "train.category_id.hist(ax=axes[0])\n",
        "axes[0].set_title(\"Распределение на трейне\")\n",
        "\n",
        "val = read_data(\"preprocessed_train.val.csv\")\n",
        "val.category_id.hist(ax=axes[1])\n",
        "axes[1].set_title(\"Распределение на валидации\")\n",
        "\n",
        "whole_train = pd.concat([train, val])\n",
        "whole_train.category_id.hist(ax=axes[2])\n",
        "axes[2].set_title(\"Распределение на всей тренировочной выборке\");"
      ],
      "execution_count": 0,
      "outputs": [
        {
          "output_type": "display_data",
          "data": {
            "image/png": "[encoded data removed]",
            "text/plain": [
              "<Figure size 1080x288 with 3 Axes>"
            ]
          },
          "metadata": {
            "tags": []
          }
        }
      ]
    },
    {
      "cell_type": "markdown",
      "metadata": {
        "id": "QVUnElssjHL0",
        "colab_type": "text"
      },
      "source": [
        "из гистрограмм видно, что распределение на трейне и валидации примерно совпадают с исходным распределением на всей тренировочной выборке"
      ]
    }
  ]
}
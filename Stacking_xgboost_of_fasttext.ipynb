{
  "nbformat": 4,
  "nbformat_minor": 0,
  "metadata": {
    "colab": {
      "name": "Stacking xgboost of fasttext.ipynb",
      "version": "0.3.2",
      "provenance": [],
      "collapsed_sections": [],
      "include_colab_link": true
    },
    "language_info": {
      "codemirror_mode": {
        "name": "ipython",
        "version": 3
      },
      "file_extension": ".py",
      "mimetype": "text/x-python",
      "name": "python",
      "nbconvert_exporter": "python",
      "pygments_lexer": "ipython3",
      "version": "3.6.7"
    },
    "kernelspec": {
      "name": "python3",
      "display_name": "Python 3"
    },
    "accelerator": "GPU"
  },
  "cells": [
    {
      "cell_type": "markdown",
      "metadata": {
        "id": "view-in-github",
        "colab_type": "text"
      },
      "source": [
        "<a href=\"https://colab.research.google.com/github/gazon1/testing-task-Avito/blob/master/Stacking_xgboost_of_fasttext.ipynb\" target=\"_parent\"><img src=\"https://colab.research.google.com/assets/colab-badge.svg\" alt=\"Open In Colab\"/></a>"
      ]
    },
    {
      "cell_type": "markdown",
      "metadata": {
        "id": "RDAOw1XnJ-DL",
        "colab_type": "text"
      },
      "source": [
        "[Описание задания](https://docs.google.com/document/d/19L0AkNF9HOvHquUBlNCCwuuWBymVqrEtlburUzjbya8/edit)\n",
        "\n",
        "\n",
        "[форма подачи заявки на стажировку](https://start.avito.ru/)"
      ]
    },
    {
      "cell_type": "code",
      "metadata": {
        "id": "dhplkwoQWMhu",
        "colab_type": "code",
        "colab": {
          "base_uri": "https://localhost:8080/",
          "height": 34
        },
        "outputId": "e2de966c-4726-4300-9f0c-7894c9090e56"
      },
      "source": [
        "# подключаем гугл диск\n",
        "from google.colab import drive\n",
        "drive.mount('/content/gdrive')"
      ],
      "execution_count": 22,
      "outputs": [
        {
          "output_type": "stream",
          "text": [
            "Drive already mounted at /content/gdrive; to attempt to forcibly remount, call drive.mount(\"/content/gdrive\", force_remount=True).\n"
          ],
          "name": "stdout"
        }
      ]
    },
    {
      "cell_type": "code",
      "metadata": {
        "id": "0ReHuctnPLwI",
        "colab_type": "code",
        "colab": {
          "base_uri": "https://localhost:8080/",
          "height": 52
        },
        "outputId": "b0fbe705-eeb7-4a48-d216-02469b5f5130"
      },
      "source": [
        "import pandas as pd\n",
        "import numpy as np\n",
        "import json\n",
        "import os\n",
        "\n",
        "from xgboost import  XGBClassifier\n",
        "import joblib # for saving xgb model\n",
        "\n",
        "# statistics\n",
        "from sklearn.metrics import confusion_matrix\n",
        "from sklearn.metrics import accuracy_score as acc\n",
        "\n",
        "from tqdm import tqdm\n",
        "tqdm.pandas()\n",
        "\n",
        "# for generating text features\n",
        "import nltk\n",
        "from nltk.corpus import stopwords\n",
        "nltk.download('stopwords')\n",
        "\n",
        "\n",
        "\n",
        "AVITO_PATH = '/content/gdrive/My Drive/avito'             # в этой папке лежат папки с кодом, данными и моделями\n",
        "DATA_PATH = os.path.join(AVITO_PATH, 'data')              # здесь лежат исходные и преобразованные данные\n",
        "FASTTEXT_PATH = os.path.join(AVITO_PATH, \"fastText\")      # папка, куда скачивается fastText\n",
        "MODELS_PATH = os.path.join(AVITO_PATH, 'models')          # здесь хранятся обученные модели"
      ],
      "execution_count": 82,
      "outputs": [
        {
          "output_type": "stream",
          "text": [
            "[nltk_data] Downloading package stopwords to /root/nltk_data...\n",
            "[nltk_data]   Package stopwords is already up-to-date!\n"
          ],
          "name": "stdout"
        }
      ]
    },
    {
      "cell_type": "code",
      "metadata": {
        "id": "564QN3fyOrE0",
        "colab_type": "code",
        "colab": {
          "base_uri": "https://localhost:8080/",
          "height": 34
        },
        "outputId": "a9344686-c174-4d63-8ef2-c074150307a1"
      },
      "source": [
        "!ls \"$AVITO_PATH\""
      ],
      "execution_count": 29,
      "outputs": [
        {
          "output_type": "stream",
          "text": [
            "'Accuracy по каждому уровню иерархии.txt'   code   data   fastText   models\n"
          ],
          "name": "stdout"
        }
      ]
    },
    {
      "cell_type": "code",
      "metadata": {
        "id": "E4P-bF6zO0Yc",
        "colab_type": "code",
        "colab": {
          "base_uri": "https://localhost:8080/",
          "height": 208
        },
        "outputId": "81b08140-e4e9-4ceb-df39-17ed52a0c792"
      },
      "source": [
        "!ls \"$DATA_PATH\""
      ],
      "execution_count": 30,
      "outputs": [
        {
          "output_type": "stream",
          "text": [
            "5_preds_of_fasttext.test.csv   preprocessed_train.csv\n",
            "5_preds_of_fasttext.train.csv  preprocessed_train.train.csv\n",
            "5_preds_of_fasttext.val.csv    preprocessed_train.val.csv\n",
            "category.csv\t\t       test.csv\n",
            "cat_hier.csv\t\t       test_lemmatized.csv\n",
            "fasttext_input.train.txt       train.csv\n",
            "fasttext_input.txt\t       train_lemmatized.csv\n",
            "fasttext_input.val.txt\t       xgb_test_data.csv\n",
            "fasttext_test.txt\t       xgb_train_data.csv\n",
            "predictions_for_test_data.csv  xgb_val_data.csv\n",
            "preprocessed_test.csv\n"
          ],
          "name": "stdout"
        }
      ]
    },
    {
      "cell_type": "code",
      "metadata": {
        "id": "xW1ADX8yO4xJ",
        "colab_type": "code",
        "colab": {
          "base_uri": "https://localhost:8080/",
          "height": 34
        },
        "outputId": "3d77c836-a2c8-4a58-fca2-951647979fe1"
      },
      "source": [
        "!ls \"$MODELS_PATH\""
      ],
      "execution_count": 31,
      "outputs": [
        {
          "output_type": "stream",
          "text": [
            "ff_model.bin  xgb_model_600_est\n"
          ],
          "name": "stdout"
        }
      ]
    },
    {
      "cell_type": "markdown",
      "metadata": {
        "id": "GEG_7N8UP-vT",
        "colab_type": "text"
      },
      "source": [
        "# Обучаем fasttext"
      ]
    },
    {
      "cell_type": "code",
      "metadata": {
        "id": "o9i70wQNQJ36",
        "colab_type": "code",
        "colab": {}
      },
      "source": [
        "%%shell\n",
        "# нужно сначала удалить старую папку fasttext, иначе не сработает\n",
        "path='/content/gdrive/My Drive/avito/fastText' # == FASTTEXT_PATH\n",
        "git clone https://github.com/facebookresearch/fastText.git \"$path\"\n",
        "cd \"$path\"\n",
        "sudo make\n",
        "sudo pip3 install ."
      ],
      "execution_count": 0,
      "outputs": []
    },
    {
      "cell_type": "code",
      "metadata": {
        "id": "xHsF8MzLQHK_",
        "colab_type": "code",
        "colab": {}
      },
      "source": [
        "import fastText"
      ],
      "execution_count": 0,
      "outputs": []
    },
    {
      "cell_type": "markdown",
      "metadata": {
        "id": "Rq3O-81bQjrq",
        "colab_type": "text"
      },
      "source": [
        "Разделяем подготовленные данные, подготовленные на этапе предобработки (см. ноутбук Preprocessing в папке code) на train/val "
      ]
    },
    {
      "cell_type": "code",
      "metadata": {
        "id": "ZgxWfllKZXMn",
        "colab_type": "code",
        "outputId": "7b60c6bc-8872-4ee9-f728-6664484baecf",
        "colab": {
          "base_uri": "https://localhost:8080/",
          "height": 17
        }
      },
      "source": [
        "%%shell\n",
        "\n",
        "head -n 398400 /content/gdrive/My\\ Drive/avito/data/fasttext_input.txt > /content/gdrive/My\\ Drive/avito/fastText/fasttext_input.train.txt\n",
        "tail -n 91117 /content/gdrive/My\\ Drive/avito/data/fasttext_input.txt > /content/gdrive/My\\ Drive/avito/fastText/fasttext_input.val.txt"
      ],
      "execution_count": 42,
      "outputs": [
        {
          "output_type": "execute_result",
          "data": {
            "text/plain": [
              ""
            ]
          },
          "metadata": {
            "tags": []
          },
          "execution_count": 42
        }
      ]
    },
    {
      "cell_type": "code",
      "metadata": {
        "id": "flfXgXonQBCs",
        "colab_type": "code",
        "colab": {}
      },
      "source": [
        "ff_model = fastText.FastText\n",
        "file_saved_ff = \"ff_model.bin\"\n",
        "if not file_saved_ff in os.listdir(MODELS_PATH):\n",
        "    ff_model = ff_model.train_supervised(input=os.path.join(FASTTEXT_PATH, \"fasttext_input.train.txt\"))\n",
        "    ff_model.save_model(os.path.join(MODELS_PATH, file_saved_ff))\n",
        "else:\n",
        "    ff_model = ff_model.load_model(os.path.join(MODELS_PATH, file_saved_ff))"
      ],
      "execution_count": 0,
      "outputs": []
    },
    {
      "cell_type": "code",
      "metadata": {
        "id": "8OwkSODS82Sd",
        "colab_type": "code",
        "colab": {}
      },
      "source": [
        "def make_fasttext_predictions(file_in: str, file_out: str):\n",
        "    \"\"\"\n",
        "    Записывает в файл file_out предсказания fasttext по данным из файла file_in\n",
        "\n",
        "    формат выходного файла: первые k столбцов - id категорий в порядке убывания их \n",
        "    вероятностей, предсказанных fastText, за ними k столбцов веростностей.\n",
        "    Т.е. (k+1)й столбец - это веротность для категории в 1м столбце - (k+2) - для \n",
        "    категории из 2го столбца\n",
        "\n",
        "    Затем файл file_out можно загрузить в pandas DataFrame \n",
        "    \"\"\"\n",
        "    assert file_in in os.listdir(FASTTEXT_PATH), f\"Error! No {file_in} in\\\n",
        "    {FASTTEXT_PATH} folder. Please, place your file in that folder\"\n",
        "    \n",
        "    preds = []\n",
        "    with open(os.path.join(FASTTEXT_PATH, file_in), \"r\") as f:\n",
        "        for line in tqdm(f):\n",
        "          line = line.strip(' \\n')\n",
        "\n",
        "          # предсказывает только топ 5 самых вероятных категорий\n",
        "          pred, prob = ff_model.predict(line, k=5)\n",
        "\n",
        "          # \n",
        "          pred = [int(i[9:]) for i in pred]\n",
        "          pred.extend([round(i, 3) for i in prob])\n",
        "          preds.append(pred)\n",
        "\n",
        "\n",
        "    df_preds = pd.DataFrame(preds)\n",
        "    df_preds.to_csv(os.path.join(DATA_PATH, file_out))"
      ],
      "execution_count": 0,
      "outputs": []
    },
    {
      "cell_type": "code",
      "metadata": {
        "id": "pRutUyas9IL-",
        "colab_type": "code",
        "outputId": "f5270bb2-0ed8-4194-fea0-73bb1b53d351",
        "colab": {
          "base_uri": "https://localhost:8080/",
          "height": 69
        }
      },
      "source": [
        "make_fasttext_predictions(\"fasttext_input.train.txt\", \"5_preds_of_fasttext.train.csv\")\n",
        "make_fasttext_predictions(\"fasttext_input.val.txt\", \"5_preds_of_fasttext.val.csv\")\n",
        "make_fasttext_predictions(\"fasttext_test.txt\", \"5_preds_of_fasttext.test.csv\")"
      ],
      "execution_count": 0,
      "outputs": [
        {
          "output_type": "stream",
          "text": [
            "398400it [00:27, 14677.28it/s]\n",
            "91117it [00:06, 14386.79it/s]\n",
            "243166it [00:17, 13610.74it/s]\n"
          ],
          "name": "stderr"
        }
      ]
    },
    {
      "cell_type": "markdown",
      "metadata": {
        "id": "DpfUeJB4PNsV",
        "colab_type": "text"
      },
      "source": [
        "# Делаем фичи для xgboost'a"
      ]
    },
    {
      "cell_type": "code",
      "metadata": {
        "id": "wpsDlkiEPRic",
        "colab_type": "code",
        "colab": {}
      },
      "source": [
        "# избавимся от os.path.join при чтении и записи датафрейма\n",
        "\n",
        "def read_data(file, **kwargs):\n",
        "    return pd.read_csv(os.path.join(DATA_PATH, file), **kwargs)\n",
        "  \n",
        "def save_data(data, file, **kwargs):\n",
        "    assert isinstance(data, pd.DataFrame)\n",
        "    return data.to_csv(os.path.join(DATA_PATH, file), **kwargs)"
      ],
      "execution_count": 0,
      "outputs": []
    },
    {
      "cell_type": "code",
      "metadata": {
        "id": "MyRY78avUVea",
        "colab_type": "code",
        "colab": {}
      },
      "source": [
        "def make_features_for_xgboost(mode):\n",
        "    \"\"\"\n",
        "    Записывает в файл xgb_test_data.csv (mode == test) или\n",
        "    xgb_train_data.csv и xgb_val_data.csv (mode == train) датафреймы, на \n",
        "    которых обучается xgboost\n",
        "\n",
        "    mode: train или test - параметр для опредения,на какой выборке\n",
        "    сделать датафрей - обучающей или тестовой\n",
        "    \"\"\"\n",
        "  \n",
        "    assert mode == \"train\" or mode == \"test\", f\"Error! mode parameter should \\\n",
        "    be train or test!\"\n",
        "\n",
        "    if mode == \"train\":\n",
        "        data = read_data(\"train.csv\")\n",
        "    else:\n",
        "        data = read_data(\"test.csv\")\n",
        "      \n",
        "    # создаем фичи\n",
        "    # https://www.kaggle.com/lalitparihar44/detailed-text-based-feature-engineering\n",
        "    data['length_of_ad'] = data.description.apply(lambda x: len(x))\n",
        "    data['num_of_words'] = data.description.apply(lambda x: len(str(x).split()))\n",
        "    data['average_word_length'] = data.apply(lambda x: x['length_of_ad'] /\\\n",
        "                                             x['num_of_words'], axis=1)\n",
        "    data['price_of_single_word'] = data.apply(lambda x: x['price'] /\\\n",
        "                                              x['num_of_words'], axis=1)\n",
        "    data['price_of_single_char'] = data.apply(lambda x: x['price'] /\\\n",
        "                                              x['length_of_ad'], axis=1)\n",
        "    data['average_price_of_single_word'] = data.apply(lambda x: \\\n",
        "                    x['average_word_length'] * x['price_of_single_char'], axis=1)\n",
        "    \n",
        "    stop_words = set(stopwords.words('russian'))\n",
        "    data['count_of_stop_words'] = data.description.apply(lambda x: len([w for w \\\n",
        "                                in str(x).lower().split() if w in stop_words]) )\n",
        "    \n",
        "    # присоединяем предсказания от fasttext и сохраняем \n",
        "    # полученный датафрейм в файл\n",
        "    if mode == \"train\":\n",
        "        df_preds_train = read_data(\"5_preds_of_fasttext.train.csv\")\n",
        "        df_preds_val = read_data(\"5_preds_of_fasttext.val.csv\")\n",
        "        \n",
        "        \n",
        "        data_train = data[:df_preds_train.shape[0]]\n",
        "        data_val = data[df_preds_train.shape[0]:]\n",
        "\n",
        "        to_del = [\"item_id\", \"description\", \"title\"]\n",
        "        data_train.drop(to_del, axis=1, inplace=True)\n",
        "        data_val.drop(to_del, axis=1, inplace=True)\n",
        "        \n",
        "        data_train = pd.concat([data_train, df_preds_train], \\\n",
        "                               axis=1).drop(\"Unnamed: 0\", axis=1)\n",
        "        data_val = pd.concat([data_val.reset_index(drop=True), df_preds_val], \\\n",
        "                             axis=1).drop(\"Unnamed: 0\", axis=1)\n",
        "        \n",
        "        save_data(data_train, \"xgb_train_data.csv\", index=False)\n",
        "        save_data(data_val, \"xgb_val_data.csv\", index=False)\n",
        "        \n",
        "    else:\n",
        "        df_preds_test= read_data(\"5_preds_of_fasttext.test.csv\")\n",
        "        to_del = [\"item_id\", \"description\", \"title\"]\n",
        "        data.drop(to_del, axis=1, inplace=True)\n",
        "\n",
        "        data = pd.concat([data, df_preds_test],\\\n",
        "                              axis=1).drop(\"Unnamed: 0\", axis=1)\n",
        "        \n",
        "        save_data(data, \"xgb_test_data.csv\", index=False)"
      ],
      "execution_count": 0,
      "outputs": []
    },
    {
      "cell_type": "code",
      "metadata": {
        "id": "Mo3nWOo5X31q",
        "colab_type": "code",
        "colab": {
          "base_uri": "https://localhost:8080/",
          "height": 104
        },
        "outputId": "0056b2dd-e0eb-46e3-8547-1db3838d0273"
      },
      "source": [
        "make_features_for_xgboost(\"train\")"
      ],
      "execution_count": 55,
      "outputs": [
        {
          "output_type": "stream",
          "text": [
            "/usr/local/lib/python3.6/dist-packages/pandas/core/frame.py:3940: SettingWithCopyWarning: \n",
            "A value is trying to be set on a copy of a slice from a DataFrame\n",
            "\n",
            "See the caveats in the documentation: http://pandas.pydata.org/pandas-docs/stable/indexing.html#indexing-view-versus-copy\n",
            "  errors=errors)\n"
          ],
          "name": "stderr"
        }
      ]
    },
    {
      "cell_type": "code",
      "metadata": {
        "id": "9ZBJt6deX9B8",
        "colab_type": "code",
        "colab": {}
      },
      "source": [
        "make_features_for_xgboost(\"test\")"
      ],
      "execution_count": 0,
      "outputs": []
    },
    {
      "cell_type": "markdown",
      "metadata": {
        "id": "MK7z6ViaPR1r",
        "colab_type": "text"
      },
      "source": [
        "# Стакаем xgboost поверх fasttext"
      ]
    },
    {
      "cell_type": "code",
      "metadata": {
        "colab_type": "code",
        "id": "DyGmXGRWS5zy",
        "outputId": "02ab283e-a7e9-4f17-b8d4-a37414457fb0",
        "colab": {
          "base_uri": "https://localhost:8080/",
          "height": 164
        }
      },
      "source": [
        "data_train = read_data(\"xgb_train_data.csv\")\n",
        "data_val = read_data(\"xgb_val_data.csv\")\n",
        "data_val.tail(3)"
      ],
      "execution_count": 5,
      "outputs": [
        {
          "output_type": "execute_result",
          "data": {
            "text/html": [
              "<div>\n",
              "<style scoped>\n",
              "    .dataframe tbody tr th:only-of-type {\n",
              "        vertical-align: middle;\n",
              "    }\n",
              "\n",
              "    .dataframe tbody tr th {\n",
              "        vertical-align: top;\n",
              "    }\n",
              "\n",
              "    .dataframe thead th {\n",
              "        text-align: right;\n",
              "    }\n",
              "</style>\n",
              "<table border=\"1\" class=\"dataframe\">\n",
              "  <thead>\n",
              "    <tr style=\"text-align: right;\">\n",
              "      <th></th>\n",
              "      <th>price</th>\n",
              "      <th>category_id</th>\n",
              "      <th>length_of_ad</th>\n",
              "      <th>num_of_words</th>\n",
              "      <th>average_word_length</th>\n",
              "      <th>price_of_single_word</th>\n",
              "      <th>price_of_single_char</th>\n",
              "      <th>average_price_of_single_word</th>\n",
              "      <th>count_of_stop_words</th>\n",
              "      <th>0</th>\n",
              "      <th>1</th>\n",
              "      <th>2</th>\n",
              "      <th>3</th>\n",
              "      <th>4</th>\n",
              "      <th>5</th>\n",
              "      <th>6</th>\n",
              "      <th>7</th>\n",
              "      <th>8</th>\n",
              "      <th>9</th>\n",
              "    </tr>\n",
              "  </thead>\n",
              "  <tbody>\n",
              "    <tr>\n",
              "      <th>91114</th>\n",
              "      <td>2900.0</td>\n",
              "      <td>25</td>\n",
              "      <td>166</td>\n",
              "      <td>22</td>\n",
              "      <td>7.545455</td>\n",
              "      <td>131.818182</td>\n",
              "      <td>17.469880</td>\n",
              "      <td>131.818182</td>\n",
              "      <td>6</td>\n",
              "      <td>25</td>\n",
              "      <td>23</td>\n",
              "      <td>15</td>\n",
              "      <td>21</td>\n",
              "      <td>18</td>\n",
              "      <td>1.000</td>\n",
              "      <td>0.000</td>\n",
              "      <td>0.0</td>\n",
              "      <td>0.0</td>\n",
              "      <td>0.0</td>\n",
              "    </tr>\n",
              "    <tr>\n",
              "      <th>91115</th>\n",
              "      <td>300.0</td>\n",
              "      <td>9</td>\n",
              "      <td>47</td>\n",
              "      <td>6</td>\n",
              "      <td>7.833333</td>\n",
              "      <td>50.000000</td>\n",
              "      <td>6.382979</td>\n",
              "      <td>50.000000</td>\n",
              "      <td>1</td>\n",
              "      <td>9</td>\n",
              "      <td>2</td>\n",
              "      <td>3</td>\n",
              "      <td>0</td>\n",
              "      <td>6</td>\n",
              "      <td>0.665</td>\n",
              "      <td>0.335</td>\n",
              "      <td>0.0</td>\n",
              "      <td>0.0</td>\n",
              "      <td>0.0</td>\n",
              "    </tr>\n",
              "    <tr>\n",
              "      <th>91116</th>\n",
              "      <td>19000.0</td>\n",
              "      <td>50</td>\n",
              "      <td>572</td>\n",
              "      <td>72</td>\n",
              "      <td>7.944444</td>\n",
              "      <td>263.888889</td>\n",
              "      <td>33.216783</td>\n",
              "      <td>263.888889</td>\n",
              "      <td>5</td>\n",
              "      <td>50</td>\n",
              "      <td>52</td>\n",
              "      <td>49</td>\n",
              "      <td>3</td>\n",
              "      <td>30</td>\n",
              "      <td>1.000</td>\n",
              "      <td>0.000</td>\n",
              "      <td>0.0</td>\n",
              "      <td>0.0</td>\n",
              "      <td>0.0</td>\n",
              "    </tr>\n",
              "  </tbody>\n",
              "</table>\n",
              "</div>"
            ],
            "text/plain": [
              "         price  category_id  length_of_ad  num_of_words  average_word_length  \\\n",
              "91114   2900.0           25           166            22             7.545455   \n",
              "91115    300.0            9            47             6             7.833333   \n",
              "91116  19000.0           50           572            72             7.944444   \n",
              "\n",
              "       price_of_single_word  price_of_single_char  \\\n",
              "91114            131.818182             17.469880   \n",
              "91115             50.000000              6.382979   \n",
              "91116            263.888889             33.216783   \n",
              "\n",
              "       average_price_of_single_word  count_of_stop_words   0   1   2   3   4  \\\n",
              "91114                    131.818182                    6  25  23  15  21  18   \n",
              "91115                     50.000000                    1   9   2   3   0   6   \n",
              "91116                    263.888889                    5  50  52  49   3  30   \n",
              "\n",
              "           5      6    7    8    9  \n",
              "91114  1.000  0.000  0.0  0.0  0.0  \n",
              "91115  0.665  0.335  0.0  0.0  0.0  \n",
              "91116  1.000  0.000  0.0  0.0  0.0  "
            ]
          },
          "metadata": {
            "tags": []
          },
          "execution_count": 5
        }
      ]
    },
    {
      "cell_type": "code",
      "metadata": {
        "id": "ro4IyEO8ghOc",
        "colab_type": "code",
        "colab": {}
      },
      "source": [
        "X_train, y_train = data_train.drop('category_id', axis=1).values, data_train.category_id.values\n",
        "X_val, y_val = data_val.drop('category_id', axis=1).values, data_val.category_id.values"
      ],
      "execution_count": 0,
      "outputs": []
    },
    {
      "cell_type": "code",
      "metadata": {
        "id": "UwrTj3fMfp8e",
        "colab_type": "code",
        "colab": {}
      },
      "source": [
        "file_saved_xgb = \"xgb_model_600_est\"\n",
        "if not file_saved_xgb in os.listdir(MODELS_PATH):\n",
        "    xgb = XGBClassifier(n_estimators=600, tree_method='gpu_hist', objective=\"multi:softprob\", num_class=54)\n",
        "    xgb.fit(X_train, y_train)\n",
        "    joblib.dump(xgb, os.path.join(MODELS_PATH, file_saved_xgb))\n",
        "else:\n",
        "    xgb = joblib.load(os.path.join(MODELS_PATH, file_saved_xgb))"
      ],
      "execution_count": 0,
      "outputs": []
    },
    {
      "cell_type": "code",
      "metadata": {
        "id": "n4R6v1Qfa8zt",
        "colab_type": "code",
        "colab": {}
      },
      "source": [
        "preds_train = xgb.predict(X_train)\n",
        "preds_val = xgb.predict(X_val)"
      ],
      "execution_count": 0,
      "outputs": []
    },
    {
      "cell_type": "code",
      "metadata": {
        "id": "QZRYC0QDaSwO",
        "colab_type": "code",
        "colab": {}
      },
      "source": [
        "del X_train, X_val, data_train, data_val"
      ],
      "execution_count": 0,
      "outputs": []
    },
    {
      "cell_type": "markdown",
      "metadata": {
        "id": "iRgdxabMc-HI",
        "colab_type": "text"
      },
      "source": [
        "# Оцениваем качество модели по accuracy"
      ]
    },
    {
      "cell_type": "markdown",
      "metadata": {
        "id": "gjphAIZAdIpE",
        "colab_type": "text"
      },
      "source": [
        "## Выделяем иерархии из файла category csv"
      ]
    },
    {
      "cell_type": "code",
      "metadata": {
        "id": "Cdw5DpEZdJXX",
        "colab_type": "code",
        "outputId": "6881cf27-27ff-4124-a0e7-02d7a0e38907",
        "colab": {
          "base_uri": "https://localhost:8080/",
          "height": 144
        }
      },
      "source": [
        "cat = read_data('category.csv')\n",
        "cat.head(3)"
      ],
      "execution_count": 77,
      "outputs": [
        {
          "output_type": "execute_result",
          "data": {
            "text/html": [
              "<div>\n",
              "<style scoped>\n",
              "    .dataframe tbody tr th:only-of-type {\n",
              "        vertical-align: middle;\n",
              "    }\n",
              "\n",
              "    .dataframe tbody tr th {\n",
              "        vertical-align: top;\n",
              "    }\n",
              "\n",
              "    .dataframe thead th {\n",
              "        text-align: right;\n",
              "    }\n",
              "</style>\n",
              "<table border=\"1\" class=\"dataframe\">\n",
              "  <thead>\n",
              "    <tr style=\"text-align: right;\">\n",
              "      <th></th>\n",
              "      <th>category_id</th>\n",
              "      <th>name</th>\n",
              "    </tr>\n",
              "  </thead>\n",
              "  <tbody>\n",
              "    <tr>\n",
              "      <th>0</th>\n",
              "      <td>0</td>\n",
              "      <td>Бытовая электроника|Телефоны|iPhone</td>\n",
              "    </tr>\n",
              "    <tr>\n",
              "      <th>1</th>\n",
              "      <td>1</td>\n",
              "      <td>Бытовая электроника|Ноутбуки</td>\n",
              "    </tr>\n",
              "    <tr>\n",
              "      <th>2</th>\n",
              "      <td>2</td>\n",
              "      <td>Бытовая электроника|Телефоны|Samsung</td>\n",
              "    </tr>\n",
              "  </tbody>\n",
              "</table>\n",
              "</div>"
            ],
            "text/plain": [
              "   category_id                                  name\n",
              "0            0   Бытовая электроника|Телефоны|iPhone\n",
              "1            1          Бытовая электроника|Ноутбуки\n",
              "2            2  Бытовая электроника|Телефоны|Samsung"
            ]
          },
          "metadata": {
            "tags": []
          },
          "execution_count": 77
        }
      ]
    },
    {
      "cell_type": "code",
      "metadata": {
        "id": "4FtnSwMQdPe4",
        "colab_type": "code",
        "outputId": "1b14e6a2-f621-41f4-fd1d-4279ab213274",
        "colab": {
          "base_uri": "https://localhost:8080/",
          "height": 144
        }
      },
      "source": [
        "# https://chrisalbon.com/python/data_wrangling/pandas_expand_cells_containing_lists/\n",
        "\n",
        "cat_hier = cat.name.apply(lambda x: x.split('|')).apply(pd.Series)\n",
        "cat_hier = cat_hier.rename(columns = lambda x : 'cat_hier_' + str(x))\n",
        "cat_hier = pd.concat([cat_hier, cat.category_id], axis=1)\n",
        "cat_hier.to_csv(os.path.join(DATA_PATH, \"cat_hier.csv\"), index=False)\n",
        "cat_hier.head(3)"
      ],
      "execution_count": 78,
      "outputs": [
        {
          "output_type": "execute_result",
          "data": {
            "text/html": [
              "<div>\n",
              "<style scoped>\n",
              "    .dataframe tbody tr th:only-of-type {\n",
              "        vertical-align: middle;\n",
              "    }\n",
              "\n",
              "    .dataframe tbody tr th {\n",
              "        vertical-align: top;\n",
              "    }\n",
              "\n",
              "    .dataframe thead th {\n",
              "        text-align: right;\n",
              "    }\n",
              "</style>\n",
              "<table border=\"1\" class=\"dataframe\">\n",
              "  <thead>\n",
              "    <tr style=\"text-align: right;\">\n",
              "      <th></th>\n",
              "      <th>cat_hier_0</th>\n",
              "      <th>cat_hier_1</th>\n",
              "      <th>cat_hier_2</th>\n",
              "      <th>cat_hier_3</th>\n",
              "      <th>category_id</th>\n",
              "    </tr>\n",
              "  </thead>\n",
              "  <tbody>\n",
              "    <tr>\n",
              "      <th>0</th>\n",
              "      <td>Бытовая электроника</td>\n",
              "      <td>Телефоны</td>\n",
              "      <td>iPhone</td>\n",
              "      <td>NaN</td>\n",
              "      <td>0</td>\n",
              "    </tr>\n",
              "    <tr>\n",
              "      <th>1</th>\n",
              "      <td>Бытовая электроника</td>\n",
              "      <td>Ноутбуки</td>\n",
              "      <td>NaN</td>\n",
              "      <td>NaN</td>\n",
              "      <td>1</td>\n",
              "    </tr>\n",
              "    <tr>\n",
              "      <th>2</th>\n",
              "      <td>Бытовая электроника</td>\n",
              "      <td>Телефоны</td>\n",
              "      <td>Samsung</td>\n",
              "      <td>NaN</td>\n",
              "      <td>2</td>\n",
              "    </tr>\n",
              "  </tbody>\n",
              "</table>\n",
              "</div>"
            ],
            "text/plain": [
              "            cat_hier_0 cat_hier_1 cat_hier_2 cat_hier_3  category_id\n",
              "0  Бытовая электроника   Телефоны     iPhone        NaN            0\n",
              "1  Бытовая электроника   Ноутбуки        NaN        NaN            1\n",
              "2  Бытовая электроника   Телефоны    Samsung        NaN            2"
            ]
          },
          "metadata": {
            "tags": []
          },
          "execution_count": 78
        }
      ]
    },
    {
      "cell_type": "code",
      "metadata": {
        "id": "7aIRHsY1aOXa",
        "colab_type": "code",
        "colab": {}
      },
      "source": [
        "del cat_hier, cat"
      ],
      "execution_count": 0,
      "outputs": []
    },
    {
      "cell_type": "markdown",
      "metadata": {
        "id": "OA4SEw-9dJpJ",
        "colab_type": "text"
      },
      "source": [
        "## Считаем accuracy по каждому уровню иерархии"
      ]
    },
    {
      "cell_type": "code",
      "metadata": {
        "id": "9vYlAjDOIWjP",
        "colab_type": "code",
        "colab": {}
      },
      "source": [
        "def calc_hier_acc(y_val, preds):\n",
        "  \"\"\"\n",
        "  Возвращает accuracy по каждому уровню иерархии категорий\n",
        "  \n",
        "  y_val - массив категорий\n",
        "  preds - массив предсказанных категорий\n",
        "  \"\"\"\n",
        "  assert isinstance(y_val, np.ndarray) and \\\n",
        "         isinstance(preds, np.ndarray) and \\\n",
        "         len(y_val.shape) == 1 and \\\n",
        "         len(preds.shape) == 1 and \\\n",
        "         y_val.shape == preds.shape\n",
        "  \n",
        "  hier_acc = []\n",
        "  for hier_level in range(1, 4):\n",
        "    col_name = f'cat_hier_{hier_level}'\n",
        "    cat = read_data('cat_hier.csv').loc[:, [col_name, 'category_id']]\n",
        "    \n",
        "    # https://stackoverflow.com/questions/18695605/python-pandas-dataframe-to-dictionary\n",
        "    d = cat.set_index('category_id')[col_name].to_dict()\n",
        "    d = {k: g[\"category_id\"].tolist() for k, g in cat.groupby(col_name)}\n",
        "\n",
        "    to_return = {}\n",
        "    for cat_name, cat_id_list in d.items():\n",
        "      idx = np.argwhere(np.isin(y_val.reshape(-1), cat_id_list)).reshape(-1)\n",
        "      to_return[cat_name] = np.average(y_val[idx].reshape(-1) == preds[idx].reshape(-1))\n",
        "      to_return[cat_name] = np.around(to_return[cat_name], 3)\n",
        "\n",
        "    hier_acc.append(to_return)\n",
        "    \n",
        "  return hier_acc"
      ],
      "execution_count": 0,
      "outputs": []
    },
    {
      "cell_type": "markdown",
      "metadata": {
        "id": "KEUGYquma-Vp",
        "colab_type": "text"
      },
      "source": [
        "качество на валидационной выборке"
      ]
    },
    {
      "cell_type": "code",
      "metadata": {
        "id": "ke5srH97LKKL",
        "colab_type": "code",
        "outputId": "70af43e8-4c14-4c4c-d844-a58fbe8fbe0e",
        "colab": {
          "base_uri": "https://localhost:8080/",
          "height": 1302
        }
      },
      "source": [
        "acc_hier_val = calc_hier_acc(y_val, preds_val)\n",
        "acc_hier_val"
      ],
      "execution_count": 83,
      "outputs": [
        {
          "output_type": "execute_result",
          "data": {
            "text/plain": [
              "[{'Аудио и видео': 0.943,\n",
              "  'Билеты и путешествия': 0.991,\n",
              "  'Бытовая техника': 0.961,\n",
              "  'Велосипеды': 0.939,\n",
              "  'Игры, приставки и программы': 0.932,\n",
              "  'Книги и журналы': 0.839,\n",
              "  'Коллекционирование': 0.795,\n",
              "  'Красота и здоровье': 0.894,\n",
              "  'Мебель и интерьер': 0.79,\n",
              "  'Музыкальные инструменты': 0.905,\n",
              "  'Настольные компьютеры': 0.952,\n",
              "  'Ноутбуки': 0.952,\n",
              "  'Одежда, обувь, аксессуары': 0.843,\n",
              "  'Охота и рыбалка': 0.877,\n",
              "  'Планшеты и электронные книги': 0.937,\n",
              "  'Посуда и товары для кухни': 0.879,\n",
              "  'Растения': 0.94,\n",
              "  'Ремонт и строительство': 0.902,\n",
              "  'Спорт и отдых': 0.806,\n",
              "  'Телефоны': 0.896,\n",
              "  'Товары для детей и игрушки': 0.834,\n",
              "  'Товары для компьютера': 0.951,\n",
              "  'Часы и украшения': 0.947},\n",
              " {'Nokia': 0.917,\n",
              "  'Samsung': 0.892,\n",
              "  'Sony': 0.938,\n",
              "  'iPhone': 0.925,\n",
              "  'Аксессуары': 0.803,\n",
              "  'Акустика, колонки, сабвуферы': 0.934,\n",
              "  'Гитары и другие струнные': 0.931,\n",
              "  'Двери': 0.959,\n",
              "  'Детская мебель': 0.729,\n",
              "  'Детские коляски': 0.921,\n",
              "  'Для дома': 0.975,\n",
              "  'Для кухни': 0.948,\n",
              "  'Для студии и концертов': 0.878,\n",
              "  'Другие марки': 0.796,\n",
              "  'Другое': 0.541,\n",
              "  'Женская одежда': 0.877,\n",
              "  'Запчасти и аксессуары': 0.939,\n",
              "  'Зимние виды спорта': 0.929,\n",
              "  'Игровые приставки': 0.937,\n",
              "  'Игрушки': 0.784,\n",
              "  'Игры для приставок': 0.928,\n",
              "  'Инструменты': 0.898,\n",
              "  'Книги': 0.829,\n",
              "  'Кровати, диваны и кресла': 0.828,\n",
              "  'Монеты': 0.968,\n",
              "  'Мониторы': 0.952,\n",
              "  'Освещение': 0.952,\n",
              "  'Планшеты': 0.937,\n",
              "  'Посуда': 0.879,\n",
              "  'Предметы интерьера, искусство': 0.62,\n",
              "  'Приборы и аксессуары': 0.894,\n",
              "  'Путешествия': 0.991,\n",
              "  'Сантехника и сауна': 0.892,\n",
              "  'Сетевое оборудование': 0.949,\n",
              "  'Столы и стулья': 0.921,\n",
              "  'Стройматериалы': 0.865,\n",
              "  'Текстиль и ковры': 0.922,\n",
              "  'Телевизоры и проекторы': 0.953,\n",
              "  'Товары для кормления': 0.896,\n",
              "  'Учебная литература': 0.85,\n",
              "  'Фитнес и тренажёры': 0.895,\n",
              "  'Часы': 0.945,\n",
              "  'Шкафы и комоды': 0.872,\n",
              "  'Ювелирные изделия': 0.951},\n",
              " {'Верхняя одежда': 0.921,\n",
              "  'Другое': 0.652,\n",
              "  'Мелкая кухонная техника': 0.948,\n",
              "  'Обувь': 0.956,\n",
              "  'Платья и юбки': 0.954,\n",
              "  'Стиральные машины': 0.975,\n",
              "  'Чехлы и плёнки': 0.911}]"
            ]
          },
          "metadata": {
            "tags": []
          },
          "execution_count": 83
        }
      ]
    },
    {
      "cell_type": "code",
      "metadata": {
        "id": "gPbhLitabGku",
        "colab_type": "code",
        "colab": {}
      },
      "source": [
        "with open(os.path.join(AVITO_PATH, 'Accuracy по каждому уровню иерархии.val.txt'), 'w') as outfile:  \n",
        "    json.dump(acc_hier_val, outfile)"
      ],
      "execution_count": 0,
      "outputs": []
    },
    {
      "cell_type": "markdown",
      "metadata": {
        "id": "NN5Widv0ccE-",
        "colab_type": "text"
      },
      "source": [
        "на обучающей выборке"
      ]
    },
    {
      "cell_type": "code",
      "metadata": {
        "id": "IXFaVlFUal3P",
        "colab_type": "code",
        "colab": {
          "base_uri": "https://localhost:8080/",
          "height": 1302
        },
        "outputId": "04041542-f2d1-43ca-d9af-73970917fdb6"
      },
      "source": [
        "acc_hier_train = calc_hier_acc(y_train, preds_train)\n",
        "acc_hier_train"
      ],
      "execution_count": 86,
      "outputs": [
        {
          "output_type": "execute_result",
          "data": {
            "text/plain": [
              "[{'Аудио и видео': 0.982,\n",
              "  'Билеты и путешествия': 1.0,\n",
              "  'Бытовая техника': 0.995,\n",
              "  'Велосипеды': 0.992,\n",
              "  'Игры, приставки и программы': 0.972,\n",
              "  'Книги и журналы': 0.947,\n",
              "  'Коллекционирование': 0.897,\n",
              "  'Красота и здоровье': 0.967,\n",
              "  'Мебель и интерьер': 0.854,\n",
              "  'Музыкальные инструменты': 0.961,\n",
              "  'Настольные компьютеры': 0.985,\n",
              "  'Ноутбуки': 0.987,\n",
              "  'Одежда, обувь, аксессуары': 0.903,\n",
              "  'Охота и рыбалка': 0.965,\n",
              "  'Планшеты и электронные книги': 0.973,\n",
              "  'Посуда и товары для кухни': 0.952,\n",
              "  'Растения': 0.988,\n",
              "  'Ремонт и строительство': 0.966,\n",
              "  'Спорт и отдых': 0.898,\n",
              "  'Телефоны': 0.943,\n",
              "  'Товары для детей и игрушки': 0.899,\n",
              "  'Товары для компьютера': 0.992,\n",
              "  'Часы и украшения': 0.985},\n",
              " {'Nokia': 0.964,\n",
              "  'Samsung': 0.936,\n",
              "  'Sony': 0.968,\n",
              "  'iPhone': 0.941,\n",
              "  'Аксессуары': 0.898,\n",
              "  'Акустика, колонки, сабвуферы': 0.972,\n",
              "  'Гитары и другие струнные': 0.96,\n",
              "  'Двери': 0.992,\n",
              "  'Детская мебель': 0.798,\n",
              "  'Детские коляски': 0.953,\n",
              "  'Для дома': 0.998,\n",
              "  'Для кухни': 0.992,\n",
              "  'Для студии и концертов': 0.963,\n",
              "  'Другие марки': 0.88,\n",
              "  'Другое': 0.703,\n",
              "  'Женская одежда': 0.92,\n",
              "  'Запчасти и аксессуары': 0.992,\n",
              "  'Зимние виды спорта': 0.972,\n",
              "  'Игровые приставки': 0.977,\n",
              "  'Игрушки': 0.895,\n",
              "  'Игры для приставок': 0.967,\n",
              "  'Инструменты': 0.968,\n",
              "  'Книги': 0.94,\n",
              "  'Кровати, диваны и кресла': 0.879,\n",
              "  'Монеты': 0.996,\n",
              "  'Мониторы': 0.99,\n",
              "  'Освещение': 0.981,\n",
              "  'Планшеты': 0.973,\n",
              "  'Посуда': 0.952,\n",
              "  'Предметы интерьера, искусство': 0.752,\n",
              "  'Приборы и аксессуары': 0.967,\n",
              "  'Путешествия': 1.0,\n",
              "  'Сантехника и сауна': 0.97,\n",
              "  'Сетевое оборудование': 0.994,\n",
              "  'Столы и стулья': 0.958,\n",
              "  'Стройматериалы': 0.937,\n",
              "  'Текстиль и ковры': 0.963,\n",
              "  'Телевизоры и проекторы': 0.992,\n",
              "  'Товары для кормления': 0.946,\n",
              "  'Учебная литература': 0.955,\n",
              "  'Фитнес и тренажёры': 0.957,\n",
              "  'Часы': 0.982,\n",
              "  'Шкафы и комоды': 0.909,\n",
              "  'Ювелирные изделия': 0.988},\n",
              " {'Верхняя одежда': 0.947,\n",
              "  'Другое': 0.757,\n",
              "  'Мелкая кухонная техника': 0.992,\n",
              "  'Обувь': 0.986,\n",
              "  'Платья и юбки': 0.975,\n",
              "  'Стиральные машины': 0.998,\n",
              "  'Чехлы и плёнки': 0.968}]"
            ]
          },
          "metadata": {
            "tags": []
          },
          "execution_count": 86
        }
      ]
    },
    {
      "cell_type": "code",
      "metadata": {
        "id": "o4APQde1fOYF",
        "colab_type": "code",
        "colab": {}
      },
      "source": [
        "with open(os.path.join(AVITO_PATH, 'Accuracy по каждому уровню иерархии.train.txt'), 'w') as outfile:  \n",
        "    json.dump(acc_hier_train, outfile)"
      ],
      "execution_count": 0,
      "outputs": []
    },
    {
      "cell_type": "markdown",
      "metadata": {
        "id": "ej-nPIrsgldc",
        "colab_type": "text"
      },
      "source": [
        "## Считаем среднюю accuracy и accuracy по category_id без разделения на уровни иерархии"
      ]
    },
    {
      "cell_type": "code",
      "metadata": {
        "id": "-ByEUBx81tTx",
        "colab_type": "code",
        "colab": {}
      },
      "source": [
        "import sys\n",
        "def calc_accuracy(y_test, y_pred, file=sys.stdout):\n",
        "    \"\"\"\n",
        "    Возвращает среднюю accuracy и accuracy по category_id без разделения на \n",
        "    уровни иерархии\n",
        "\n",
        "    Формат вывода:\n",
        "\n",
        "    <category_id>: <accuracy>\n",
        "    \"\"\"\n",
        "    if isinstance(file, str):\n",
        "        file = open(file, 'w')\n",
        "\n",
        "    t = confusion_matrix(y_test, y_pred)\n",
        "\n",
        "\n",
        "    q = []\n",
        "    for i in range(t.shape[0]):\n",
        "        accuracy_i = t[i, i] / t[:, i].sum()\n",
        "        accuracy_i = round(accuracy_i, 3)\n",
        "        q.append(accuracy_i)\n",
        "\n",
        "    print(\"mean accuracy\", file=file)\n",
        "    print(np.mean(q), file=file)\n",
        "\n",
        "    print(\"----------\", file=file)\n",
        "    print(\"accuracy by categories\\n\", file=file)\n",
        "\n",
        "    for idx, i in enumerate(q):\n",
        "        print(f\"{idx}: {i}\", file=file)"
      ],
      "execution_count": 0,
      "outputs": []
    },
    {
      "cell_type": "markdown",
      "metadata": {
        "id": "CEnQpwJEcZDG",
        "colab_type": "text"
      },
      "source": [
        "качество на валидационной выборке"
      ]
    },
    {
      "cell_type": "code",
      "metadata": {
        "id": "XBiiRDvtAsyE",
        "colab_type": "code",
        "outputId": "936f6611-e721-45df-c1a8-ba2dd115da1f",
        "colab": {
          "base_uri": "https://localhost:8080/",
          "height": 1042
        }
      },
      "source": [
        "calc_accuracy(y_val, preds_val, file=os.path.join(AVITO_PATH, \"Средняя accuracy и accuracy по \\\n",
        "category_id без разделения на уровни иерархии.val.txt\"))\n",
        "\n",
        "calc_accuracy(y_val, preds_val)"
      ],
      "execution_count": 102,
      "outputs": [
        {
          "output_type": "stream",
          "text": [
            "mean accuracy\n",
            "0.8750185185185186\n",
            "----------\n",
            "accuracy by categories\n",
            "\n",
            "0: 0.918\n",
            "1: 0.947\n",
            "2: 0.884\n",
            "3: 0.926\n",
            "4: 0.914\n",
            "5: 0.955\n",
            "6: 0.854\n",
            "7: 0.959\n",
            "8: 0.934\n",
            "9: 0.869\n",
            "10: 0.896\n",
            "11: 0.942\n",
            "12: 0.921\n",
            "13: 0.953\n",
            "14: 0.967\n",
            "15: 0.849\n",
            "16: 0.843\n",
            "17: 0.864\n",
            "18: 0.814\n",
            "19: 0.626\n",
            "20: 0.841\n",
            "21: 0.907\n",
            "22: 0.901\n",
            "23: 0.504\n",
            "24: 0.957\n",
            "25: 0.961\n",
            "26: 0.99\n",
            "27: 0.884\n",
            "28: 0.936\n",
            "29: 0.959\n",
            "30: 0.79\n",
            "31: 0.712\n",
            "32: 0.908\n",
            "33: 0.888\n",
            "34: 0.748\n",
            "35: 0.945\n",
            "36: 0.932\n",
            "37: 0.89\n",
            "38: 0.686\n",
            "39: 0.932\n",
            "40: 0.954\n",
            "41: 0.854\n",
            "42: 0.864\n",
            "43: 0.841\n",
            "44: 0.609\n",
            "45: 0.964\n",
            "46: 0.889\n",
            "47: 0.682\n",
            "48: 0.994\n",
            "49: 0.869\n",
            "50: 0.953\n",
            "51: 0.856\n",
            "52: 0.871\n",
            "53: 0.945\n"
          ],
          "name": "stdout"
        }
      ]
    },
    {
      "cell_type": "markdown",
      "metadata": {
        "id": "3_CowRZ5cpHi",
        "colab_type": "text"
      },
      "source": [
        "на  обучающей выборке"
      ]
    },
    {
      "cell_type": "code",
      "metadata": {
        "id": "gzq8tgHleuZ2",
        "colab_type": "code",
        "colab": {
          "base_uri": "https://localhost:8080/",
          "height": 1042
        },
        "outputId": "ca10c033-837c-4d92-9d76-043698a5a2f0"
      },
      "source": [
        "calc_accuracy(y_train, preds_train, file=os.path.join(AVITO_PATH, \"Средняя accuracy и accuracy по \\\n",
        "category_id без разделения на уровни иерархии.train.txt\"))\n",
        "\n",
        "calc_accuracy(y_train, preds_train)"
      ],
      "execution_count": 103,
      "outputs": [
        {
          "output_type": "stream",
          "text": [
            "mean accuracy\n",
            "0.9349814814814814\n",
            "----------\n",
            "accuracy by categories\n",
            "\n",
            "0: 0.958\n",
            "1: 0.986\n",
            "2: 0.944\n",
            "3: 0.976\n",
            "4: 0.962\n",
            "5: 0.99\n",
            "6: 0.918\n",
            "7: 0.99\n",
            "8: 0.981\n",
            "9: 0.902\n",
            "10: 0.955\n",
            "11: 0.968\n",
            "12: 0.981\n",
            "13: 0.987\n",
            "14: 0.993\n",
            "15: 0.949\n",
            "16: 0.879\n",
            "17: 0.965\n",
            "18: 0.841\n",
            "19: 0.748\n",
            "20: 0.923\n",
            "21: 0.956\n",
            "22: 0.929\n",
            "23: 0.688\n",
            "24: 0.989\n",
            "25: 0.979\n",
            "26: 0.998\n",
            "27: 0.919\n",
            "28: 0.967\n",
            "29: 0.991\n",
            "30: 0.905\n",
            "31: 0.833\n",
            "32: 0.947\n",
            "33: 0.921\n",
            "34: 0.824\n",
            "35: 0.966\n",
            "36: 0.971\n",
            "37: 0.964\n",
            "38: 0.821\n",
            "39: 0.953\n",
            "40: 0.988\n",
            "41: 0.904\n",
            "42: 0.906\n",
            "43: 0.948\n",
            "44: 0.843\n",
            "45: 0.992\n",
            "46: 0.929\n",
            "47: 0.862\n",
            "48: 0.999\n",
            "49: 0.949\n",
            "50: 0.986\n",
            "51: 0.942\n",
            "52: 0.937\n",
            "53: 0.987\n"
          ],
          "name": "stdout"
        }
      ]
    },
    {
      "cell_type": "code",
      "metadata": {
        "id": "p7ytv7q7LnxS",
        "colab_type": "code",
        "colab": {
          "base_uri": "https://localhost:8080/",
          "height": 657
        },
        "outputId": "28cb91a5-9d90-4d47-f5c2-bd6de9c05497"
      },
      "source": [
        "from matplotlib import pyplot as plt\n",
        "fig, ax = plt.subplots(nrows=1, ncols=1)\n",
        "fig.set_size_inches(25.5, 10.5)\n",
        "\n",
        "\n",
        "colors = ['red', 'lime']\n",
        "array = np.hstack([np.asarray(y_val).reshape(-1,1), np.asarray(preds_val).reshape(-1,1)])\n",
        "plt.xticks(np.arange(0, 54, 1.0))\n",
        "ax.hist(array, bins=54, color=colors, label=colors)\n",
        "ax.set_xlabel('category_id')\n",
        "\n",
        "plt.show();\n"
      ],
      "execution_count": 104,
      "outputs": [
        {
          "output_type": "display_data",
          "data": {
            "image/png": "[encoded data removed]",
            "text/plain": [
              "<Figure size 1836x756 with 1 Axes>"
            ]
          },
          "metadata": {
            "tags": []
          }
        }
      ]
    },
    {
      "cell_type": "markdown",
      "metadata": {
        "id": "jSJLx5sRKnTJ",
        "colab_type": "text"
      },
      "source": [
        "# Делаем предсказания для тестовой выборки"
      ]
    },
    {
      "cell_type": "code",
      "metadata": {
        "id": "6cCXCCOIJPMp",
        "colab_type": "code",
        "colab": {}
      },
      "source": [
        "data_test = read_data(\"xgb_test_data.csv\")\n",
        "preds_test = xgb.predict(data_test.values)"
      ],
      "execution_count": 0,
      "outputs": []
    },
    {
      "cell_type": "code",
      "metadata": {
        "id": "nukM_rXrLIFH",
        "colab_type": "code",
        "outputId": "b61068fc-9c04-42f0-f0a1-d67145040fc7",
        "colab": {
          "base_uri": "https://localhost:8080/",
          "height": 175
        }
      },
      "source": [
        "original_test_data = read_data('test.csv')\n",
        "\n",
        "test_preds = pd.DataFrame([original_test_data.item_id.values, preds_test], ).T\n",
        "test_preds.columns = ['item_id', 'category_id']\n",
        "test_preds = test_preds.set_index('item_id')\n",
        "test_preds.head(3)"
      ],
      "execution_count": 93,
      "outputs": [
        {
          "output_type": "execute_result",
          "data": {
            "text/html": [
              "<div>\n",
              "<style scoped>\n",
              "    .dataframe tbody tr th:only-of-type {\n",
              "        vertical-align: middle;\n",
              "    }\n",
              "\n",
              "    .dataframe tbody tr th {\n",
              "        vertical-align: top;\n",
              "    }\n",
              "\n",
              "    .dataframe thead th {\n",
              "        text-align: right;\n",
              "    }\n",
              "</style>\n",
              "<table border=\"1\" class=\"dataframe\">\n",
              "  <thead>\n",
              "    <tr style=\"text-align: right;\">\n",
              "      <th></th>\n",
              "      <th>category_id</th>\n",
              "    </tr>\n",
              "    <tr>\n",
              "      <th>item_id</th>\n",
              "      <th></th>\n",
              "    </tr>\n",
              "  </thead>\n",
              "  <tbody>\n",
              "    <tr>\n",
              "      <th>489517</th>\n",
              "      <td>22</td>\n",
              "    </tr>\n",
              "    <tr>\n",
              "      <th>489518</th>\n",
              "      <td>0</td>\n",
              "    </tr>\n",
              "    <tr>\n",
              "      <th>489519</th>\n",
              "      <td>15</td>\n",
              "    </tr>\n",
              "  </tbody>\n",
              "</table>\n",
              "</div>"
            ],
            "text/plain": [
              "         category_id\n",
              "item_id             \n",
              "489517            22\n",
              "489518             0\n",
              "489519            15"
            ]
          },
          "metadata": {
            "tags": []
          },
          "execution_count": 93
        }
      ]
    },
    {
      "cell_type": "code",
      "metadata": {
        "id": "d2kWTX0HLg1H",
        "colab_type": "code",
        "colab": {}
      },
      "source": [
        "assert test_preds.shape[0] == original_test_data.shape[0]\n",
        "save_data(test_preds, \"Предсказания для тестовой выборки.csv\")"
      ],
      "execution_count": 0,
      "outputs": []
    }
  ]
}
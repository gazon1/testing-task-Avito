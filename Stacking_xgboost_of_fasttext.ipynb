{
 "cells": [
  {
   "cell_type": "markdown",
   "metadata": {
    "colab_type": "text",
    "id": "RDAOw1XnJ-DL"
   },
   "source": [
    "[Описание задания](https://docs.google.com/document/d/19L0AkNF9HOvHquUBlNCCwuuWBymVqrEtlburUzjbya8/edit)\n",
    "\n",
    "\n",
    "[форма подачи заявки на стажировку](https://start.avito.ru/)"
   ]
  },
  {
   "cell_type": "code",
   "execution_count": 0,
   "metadata": {
    "colab": {},
    "colab_type": "code",
    "id": "dhplkwoQWMhu"
   },
   "outputs": [],
   "source": [
    "# подключаем гугл диск\n",
    "from google.colab import drive\n",
    "drive.mount('/content/gdrive')"
   ]
  },
  {
   "cell_type": "code",
   "execution_count": 0,
   "metadata": {
    "colab": {},
    "colab_type": "code",
    "id": "0ReHuctnPLwI"
   },
   "outputs": [],
   "source": [
    "import pandas as pd\n",
    "import numpy as np\n",
    "import os\n",
    "\n",
    "from xgboost import  XGBClassifier\n",
    "import joblib # for saving xgb model\n",
    "\n",
    "# statistics\n",
    "from sklearn.metrics import confusion_matrix\n",
    "from sklearn.metrics import accuracy_score as acc\n",
    "\n",
    "from tqdm import tqdm\n",
    "tqdm.pandas()\n",
    "\n",
    "# for generating text features\n",
    "import nltk\n",
    "from nltk.corpus import stopwords\n",
    "nltk.download('stopwords')\n",
    "\n",
    "\n",
    "DATA_PATH = '/content/gdrive/My Drive/avito'            # в этой папке лежат данные и весь код\n",
    "FASTTEXT_PATH= os.path.join(DATA_PATH, \"fastText\")      # папка, куда скачивается fastText"
   ]
  },
  {
   "cell_type": "markdown",
   "metadata": {
    "colab_type": "text",
    "id": "GEG_7N8UP-vT"
   },
   "source": [
    "# Обучаем fasttext"
   ]
  },
  {
   "cell_type": "code",
   "execution_count": 0,
   "metadata": {
    "colab": {},
    "colab_type": "code",
    "id": "o9i70wQNQJ36"
   },
   "outputs": [],
   "source": [
    "%%shell\n",
    "# нужно сначала удалить старую папку fasttext, иначе не сработает\n",
    "path='/content/gdrive/My Drive/avito/fastText'\n",
    "git clone https://github.com/facebookresearch/fastText.git \"$path\"\n",
    "cd \"$path\"\n",
    "sudo make\n",
    "sudo pip3 install ."
   ]
  },
  {
   "cell_type": "code",
   "execution_count": 0,
   "metadata": {
    "colab": {},
    "colab_type": "code",
    "id": "xHsF8MzLQHK_"
   },
   "outputs": [],
   "source": [
    "import fastText"
   ]
  },
  {
   "cell_type": "code",
   "execution_count": 9,
   "metadata": {
    "colab": {
     "base_uri": "https://localhost:8080/",
     "height": 17
    },
    "colab_type": "code",
    "id": "ZgxWfllKZXMn",
    "outputId": "42a737f5-24fb-4bc3-9342-29f89b85c9a3"
   },
   "outputs": [
    {
     "data": {
      "text/plain": []
     },
     "execution_count": 9,
     "metadata": {
      "tags": []
     },
     "output_type": "execute_result"
    }
   ],
   "source": [
    "%%shell\n",
    "\n",
    "head -n 398400 /content/gdrive/My\\ Drive/avito/fasttext_input.txt > /content/gdrive/My\\ Drive/avito/fastText/fasttext_input.train.txt\n",
    "tail -n 91117 /content/gdrive/My\\ Drive/avito/fasttext_input.txt > /content/gdrive/My\\ Drive/avito/fastText/fasttext_input.val.txt"
   ]
  },
  {
   "cell_type": "code",
   "execution_count": 0,
   "metadata": {
    "colab": {},
    "colab_type": "code",
    "id": "flfXgXonQBCs"
   },
   "outputs": [],
   "source": [
    "ff_model = fastText.FastText\n",
    "ff_model = ff_model.train_supervised(input=os.path.join(FASTTEXT_PATH, \"fasttext_input.train.txt\"))"
   ]
  },
  {
   "cell_type": "code",
   "execution_count": 0,
   "metadata": {
    "colab": {},
    "colab_type": "code",
    "id": "8OwkSODS82Sd"
   },
   "outputs": [],
   "source": [
    "def make_fasttext_predictions(file_in: str, file_out: str):\n",
    "  \"\"\"\n",
    "  Записывает в файл file_out предсказания fasttext по данным из файла file_in\n",
    "  \n",
    "  формат выходного файла: первые k столбцов - id категорий в порядке убывания их \n",
    "  вероятностей, предсказанных fastText, за ними k столбцов веростностей.\n",
    "  Т.е. (k+1)й столбец - это веротность для категории в 1м столбце - (k+2) - для \n",
    "  категории из 2го столбца\n",
    "  \n",
    "  Затем файл file_out можно загрузить в pandas DataFrame \n",
    "  \"\"\"\n",
    "    preds = []\n",
    "    with open(os.path.join(DATA_PATH, file_in), \"r\") as f:\n",
    "        for line in tqdm(f):\n",
    "          line = line.strip(' \\n')\n",
    "          \n",
    "          # предсказывает только топ 5 самых вероятных категорий\n",
    "          pred, prob = ff_model.predict(line, k=5)\n",
    "          \n",
    "          # \n",
    "          pred = [int(i[9:]) for i in pred]\n",
    "          pred.extend([round(i, 3) for i in prob])\n",
    "          preds.append(pred)\n",
    "\n",
    "\n",
    "    df_preds = pd.DataFrame(preds)\n",
    "    df_preds.to_csv(os.path.join(DATA_PATH, file_out))"
   ]
  },
  {
   "cell_type": "code",
   "execution_count": 14,
   "metadata": {
    "colab": {
     "base_uri": "https://localhost:8080/",
     "height": 69
    },
    "colab_type": "code",
    "id": "pRutUyas9IL-",
    "outputId": "f5270bb2-0ed8-4194-fea0-73bb1b53d351"
   },
   "outputs": [
    {
     "name": "stderr",
     "output_type": "stream",
     "text": [
      "398400it [00:27, 14677.28it/s]\n",
      "91117it [00:06, 14386.79it/s]\n",
      "243166it [00:17, 13610.74it/s]\n"
     ]
    }
   ],
   "source": [
    "make_fasttext_predictions(\"fastText/fasttext_input.train.txt\", \"5_preds_of_fasttext.train.csv\")\n",
    "make_fasttext_predictions(\"fastText/fasttext_input.val.txt\", \"5_preds_of_fasttext.val.csv\")\n",
    "make_fasttext_predictions(\"fasttext_test.txt\", \"5_preds_of_fasttext.test.csv\")"
   ]
  },
  {
   "cell_type": "markdown",
   "metadata": {
    "colab_type": "text",
    "id": "DpfUeJB4PNsV"
   },
   "source": [
    "# Делаем фичи для xgboost'a"
   ]
  },
  {
   "cell_type": "code",
   "execution_count": 0,
   "metadata": {
    "colab": {},
    "colab_type": "code",
    "id": "wpsDlkiEPRic"
   },
   "outputs": [],
   "source": [
    "# избавимся от os.path.join при чтении и записи датафрейма\n",
    "\n",
    "def read_data(file, **kwargs):\n",
    "    return pd.read_csv(os.path.join(DATA_PATH, file), **kwargs)\n",
    "  \n",
    "def save_data(data, file, **kwargs):\n",
    "    assert isinstance(data, pd.DataFrame)\n",
    "    return data.to_csv(os.path.join(DATA_PATH, file), **kwargs)"
   ]
  },
  {
   "cell_type": "markdown",
   "metadata": {
    "colab_type": "text",
    "id": "nULICtPjn7nH"
   },
   "source": [
    "### train"
   ]
  },
  {
   "cell_type": "code",
   "execution_count": 0,
   "metadata": {
    "colab": {},
    "colab_type": "code",
    "id": "MqmHBe3ZP1Ad"
   },
   "outputs": [],
   "source": [
    "data = read_data(\"train.csv\")"
   ]
  },
  {
   "cell_type": "code",
   "execution_count": 0,
   "metadata": {
    "colab": {},
    "colab_type": "code",
    "id": "1X8736TZPZuc"
   },
   "outputs": [],
   "source": [
    "# https://www.kaggle.com/lalitparihar44/detailed-text-based-feature-engineering\n",
    "\n",
    "data['length_of_ad'] = data.description.apply(lambda x: len(x))\n",
    "data['num_of_words'] = data.description.apply(lambda x: len(str(x).split()))\n",
    "data['average_word_length'] = data.apply(lambda x: x['length_of_ad'] / x['num_of_words'], axis=1)\n",
    "data['price_of_single_word'] = data.apply(lambda x: x['price'] / x['num_of_words'], axis=1)\n",
    "data['price_of_single_char'] = data.apply(lambda x: x['price'] / x['length_of_ad'], axis=1)\n",
    "data['average_price_of_single_word'] = data.apply(lambda x: x['average_word_length'] * x['price_of_single_char'], axis=1)"
   ]
  },
  {
   "cell_type": "code",
   "execution_count": 0,
   "metadata": {
    "colab": {},
    "colab_type": "code",
    "id": "NFBx0FAqPZzv"
   },
   "outputs": [],
   "source": [
    "stop_words = set(stopwords.words('russian'))\n",
    "data['count_of_stop_words'] = data.description.apply(lambda x: len([w for w in str(x).lower().split() if w in stop_words]) )"
   ]
  },
  {
   "cell_type": "code",
   "execution_count": 0,
   "metadata": {
    "colab": {},
    "colab_type": "code",
    "id": "QobCpYip-Y6P"
   },
   "outputs": [],
   "source": [
    "df_preds_train = read_data(\"5_preds_of_fasttext.train.csv\")\n",
    "df_preds_val = read_data(\"5_preds_of_fasttext.val.csv\")"
   ]
  },
  {
   "cell_type": "code",
   "execution_count": 23,
   "metadata": {
    "colab": {
     "base_uri": "https://localhost:8080/",
     "height": 34
    },
    "colab_type": "code",
    "id": "42i307-V-k-v",
    "outputId": "3bb5c6ae-8082-4904-bc81-a0bf811740f8"
   },
   "outputs": [
    {
     "data": {
      "text/plain": [
       "((398400, 11), (91117, 11), (489517, 12))"
      ]
     },
     "execution_count": 23,
     "metadata": {
      "tags": []
     },
     "output_type": "execute_result"
    }
   ],
   "source": [
    "df_preds_train.shape, df_preds_val.shape, data.shape"
   ]
  },
  {
   "cell_type": "code",
   "execution_count": 24,
   "metadata": {
    "colab": {
     "base_uri": "https://localhost:8080/",
     "height": 104
    },
    "colab_type": "code",
    "id": "98Z7wswfpo-m",
    "outputId": "b191f102-e9d3-4091-ed3c-dd45ab406187"
   },
   "outputs": [
    {
     "name": "stderr",
     "output_type": "stream",
     "text": [
      "/usr/local/lib/python3.6/dist-packages/pandas/core/frame.py:3940: SettingWithCopyWarning: \n",
      "A value is trying to be set on a copy of a slice from a DataFrame\n",
      "\n",
      "See the caveats in the documentation: http://pandas.pydata.org/pandas-docs/stable/indexing.html#indexing-view-versus-copy\n",
      "  errors=errors)\n"
     ]
    }
   ],
   "source": [
    "data_train = data[:df_preds_train.shape[0]]\n",
    "data_val = data[df_preds_train.shape[0]:]\n",
    "\n",
    "to_del = [\"item_id\", \"description\", \"title\"]\n",
    "data_train.drop(to_del, axis=1, inplace=True)\n",
    "data_val.drop(to_del, axis=1, inplace=True)"
   ]
  },
  {
   "cell_type": "code",
   "execution_count": 0,
   "metadata": {
    "colab": {},
    "colab_type": "code",
    "id": "Y6GVugFW-2bW"
   },
   "outputs": [],
   "source": [
    "data_train = pd.concat([data_train, df_preds_train], axis=1).drop(\"Unnamed: 0\", axis=1)\n",
    "data_val = pd.concat([data_val.reset_index(drop=True), df_preds_val], axis=1).drop(\"Unnamed: 0\", axis=1)"
   ]
  },
  {
   "cell_type": "code",
   "execution_count": 26,
   "metadata": {
    "colab": {
     "base_uri": "https://localhost:8080/",
     "height": 164
    },
    "colab_type": "code",
    "id": "v1j_sv8e-tKc",
    "outputId": "607152fb-1e8e-48b7-d822-f86e03a24777"
   },
   "outputs": [
    {
     "data": {
      "text/html": [
       "<div>\n",
       "<style scoped>\n",
       "    .dataframe tbody tr th:only-of-type {\n",
       "        vertical-align: middle;\n",
       "    }\n",
       "\n",
       "    .dataframe tbody tr th {\n",
       "        vertical-align: top;\n",
       "    }\n",
       "\n",
       "    .dataframe thead th {\n",
       "        text-align: right;\n",
       "    }\n",
       "</style>\n",
       "<table border=\"1\" class=\"dataframe\">\n",
       "  <thead>\n",
       "    <tr style=\"text-align: right;\">\n",
       "      <th></th>\n",
       "      <th>price</th>\n",
       "      <th>category_id</th>\n",
       "      <th>length_of_ad</th>\n",
       "      <th>num_of_words</th>\n",
       "      <th>average_word_length</th>\n",
       "      <th>price_of_single_word</th>\n",
       "      <th>price_of_single_char</th>\n",
       "      <th>average_price_of_single_word</th>\n",
       "      <th>count_of_stop_words</th>\n",
       "      <th>0</th>\n",
       "      <th>1</th>\n",
       "      <th>2</th>\n",
       "      <th>3</th>\n",
       "      <th>4</th>\n",
       "      <th>5</th>\n",
       "      <th>6</th>\n",
       "      <th>7</th>\n",
       "      <th>8</th>\n",
       "      <th>9</th>\n",
       "    </tr>\n",
       "  </thead>\n",
       "  <tbody>\n",
       "    <tr>\n",
       "      <th>0</th>\n",
       "      <td>5500.0</td>\n",
       "      <td>6</td>\n",
       "      <td>169</td>\n",
       "      <td>30</td>\n",
       "      <td>5.633333</td>\n",
       "      <td>183.333333</td>\n",
       "      <td>32.544379</td>\n",
       "      <td>183.333333</td>\n",
       "      <td>3</td>\n",
       "      <td>6</td>\n",
       "      <td>10</td>\n",
       "      <td>0</td>\n",
       "      <td>9</td>\n",
       "      <td>2</td>\n",
       "      <td>0.999</td>\n",
       "      <td>0.000</td>\n",
       "      <td>0.000</td>\n",
       "      <td>0.000</td>\n",
       "      <td>0.000</td>\n",
       "    </tr>\n",
       "    <tr>\n",
       "      <th>1</th>\n",
       "      <td>13500.0</td>\n",
       "      <td>50</td>\n",
       "      <td>125</td>\n",
       "      <td>18</td>\n",
       "      <td>6.944444</td>\n",
       "      <td>750.000000</td>\n",
       "      <td>108.000000</td>\n",
       "      <td>750.000000</td>\n",
       "      <td>4</td>\n",
       "      <td>40</td>\n",
       "      <td>10</td>\n",
       "      <td>31</td>\n",
       "      <td>36</td>\n",
       "      <td>39</td>\n",
       "      <td>0.130</td>\n",
       "      <td>0.114</td>\n",
       "      <td>0.084</td>\n",
       "      <td>0.074</td>\n",
       "      <td>0.061</td>\n",
       "    </tr>\n",
       "    <tr>\n",
       "      <th>2</th>\n",
       "      <td>500.0</td>\n",
       "      <td>43</td>\n",
       "      <td>242</td>\n",
       "      <td>32</td>\n",
       "      <td>7.562500</td>\n",
       "      <td>15.625000</td>\n",
       "      <td>2.066116</td>\n",
       "      <td>15.625000</td>\n",
       "      <td>6</td>\n",
       "      <td>43</td>\n",
       "      <td>51</td>\n",
       "      <td>19</td>\n",
       "      <td>44</td>\n",
       "      <td>20</td>\n",
       "      <td>0.974</td>\n",
       "      <td>0.019</td>\n",
       "      <td>0.001</td>\n",
       "      <td>0.001</td>\n",
       "      <td>0.001</td>\n",
       "    </tr>\n",
       "  </tbody>\n",
       "</table>\n",
       "</div>"
      ],
      "text/plain": [
       "     price  category_id  length_of_ad  num_of_words  average_word_length  \\\n",
       "0   5500.0            6           169            30             5.633333   \n",
       "1  13500.0           50           125            18             6.944444   \n",
       "2    500.0           43           242            32             7.562500   \n",
       "\n",
       "   price_of_single_word  price_of_single_char  average_price_of_single_word  \\\n",
       "0            183.333333             32.544379                    183.333333   \n",
       "1            750.000000            108.000000                    750.000000   \n",
       "2             15.625000              2.066116                     15.625000   \n",
       "\n",
       "   count_of_stop_words   0   1   2   3   4      5      6      7      8      9  \n",
       "0                    3   6  10   0   9   2  0.999  0.000  0.000  0.000  0.000  \n",
       "1                    4  40  10  31  36  39  0.130  0.114  0.084  0.074  0.061  \n",
       "2                    6  43  51  19  44  20  0.974  0.019  0.001  0.001  0.001  "
      ]
     },
     "execution_count": 26,
     "metadata": {
      "tags": []
     },
     "output_type": "execute_result"
    }
   ],
   "source": [
    "data_val.head(3)"
   ]
  },
  {
   "cell_type": "code",
   "execution_count": 27,
   "metadata": {
    "colab": {
     "base_uri": "https://localhost:8080/",
     "height": 164
    },
    "colab_type": "code",
    "id": "t3YjGY5drIkJ",
    "outputId": "ada4c205-53f3-40f0-9208-f567267f8272"
   },
   "outputs": [
    {
     "data": {
      "text/html": [
       "<div>\n",
       "<style scoped>\n",
       "    .dataframe tbody tr th:only-of-type {\n",
       "        vertical-align: middle;\n",
       "    }\n",
       "\n",
       "    .dataframe tbody tr th {\n",
       "        vertical-align: top;\n",
       "    }\n",
       "\n",
       "    .dataframe thead th {\n",
       "        text-align: right;\n",
       "    }\n",
       "</style>\n",
       "<table border=\"1\" class=\"dataframe\">\n",
       "  <thead>\n",
       "    <tr style=\"text-align: right;\">\n",
       "      <th></th>\n",
       "      <th>price</th>\n",
       "      <th>category_id</th>\n",
       "      <th>length_of_ad</th>\n",
       "      <th>num_of_words</th>\n",
       "      <th>average_word_length</th>\n",
       "      <th>price_of_single_word</th>\n",
       "      <th>price_of_single_char</th>\n",
       "      <th>average_price_of_single_word</th>\n",
       "      <th>count_of_stop_words</th>\n",
       "      <th>0</th>\n",
       "      <th>1</th>\n",
       "      <th>2</th>\n",
       "      <th>3</th>\n",
       "      <th>4</th>\n",
       "      <th>5</th>\n",
       "      <th>6</th>\n",
       "      <th>7</th>\n",
       "      <th>8</th>\n",
       "      <th>9</th>\n",
       "    </tr>\n",
       "  </thead>\n",
       "  <tbody>\n",
       "    <tr>\n",
       "      <th>0</th>\n",
       "      <td>1000.0</td>\n",
       "      <td>19</td>\n",
       "      <td>26</td>\n",
       "      <td>3</td>\n",
       "      <td>8.666667</td>\n",
       "      <td>333.333333</td>\n",
       "      <td>38.461538</td>\n",
       "      <td>333.333333</td>\n",
       "      <td>0</td>\n",
       "      <td>19</td>\n",
       "      <td>23</td>\n",
       "      <td>27</td>\n",
       "      <td>44</td>\n",
       "      <td>47</td>\n",
       "      <td>0.945</td>\n",
       "      <td>0.053</td>\n",
       "      <td>0.001</td>\n",
       "      <td>0.000</td>\n",
       "      <td>0.000</td>\n",
       "    </tr>\n",
       "    <tr>\n",
       "      <th>1</th>\n",
       "      <td>1250.0</td>\n",
       "      <td>22</td>\n",
       "      <td>83</td>\n",
       "      <td>11</td>\n",
       "      <td>7.545455</td>\n",
       "      <td>113.636364</td>\n",
       "      <td>15.060241</td>\n",
       "      <td>113.636364</td>\n",
       "      <td>1</td>\n",
       "      <td>22</td>\n",
       "      <td>16</td>\n",
       "      <td>39</td>\n",
       "      <td>38</td>\n",
       "      <td>37</td>\n",
       "      <td>0.988</td>\n",
       "      <td>0.007</td>\n",
       "      <td>0.001</td>\n",
       "      <td>0.001</td>\n",
       "      <td>0.001</td>\n",
       "    </tr>\n",
       "    <tr>\n",
       "      <th>2</th>\n",
       "      <td>13000.0</td>\n",
       "      <td>37</td>\n",
       "      <td>724</td>\n",
       "      <td>102</td>\n",
       "      <td>7.098039</td>\n",
       "      <td>127.450980</td>\n",
       "      <td>17.955801</td>\n",
       "      <td>127.450980</td>\n",
       "      <td>18</td>\n",
       "      <td>37</td>\n",
       "      <td>21</td>\n",
       "      <td>47</td>\n",
       "      <td>24</td>\n",
       "      <td>17</td>\n",
       "      <td>0.799</td>\n",
       "      <td>0.108</td>\n",
       "      <td>0.022</td>\n",
       "      <td>0.020</td>\n",
       "      <td>0.017</td>\n",
       "    </tr>\n",
       "  </tbody>\n",
       "</table>\n",
       "</div>"
      ],
      "text/plain": [
       "     price  category_id  length_of_ad  num_of_words  average_word_length  \\\n",
       "0   1000.0           19            26             3             8.666667   \n",
       "1   1250.0           22            83            11             7.545455   \n",
       "2  13000.0           37           724           102             7.098039   \n",
       "\n",
       "   price_of_single_word  price_of_single_char  average_price_of_single_word  \\\n",
       "0            333.333333             38.461538                    333.333333   \n",
       "1            113.636364             15.060241                    113.636364   \n",
       "2            127.450980             17.955801                    127.450980   \n",
       "\n",
       "   count_of_stop_words   0   1   2   3   4      5      6      7      8      9  \n",
       "0                    0  19  23  27  44  47  0.945  0.053  0.001  0.000  0.000  \n",
       "1                    1  22  16  39  38  37  0.988  0.007  0.001  0.001  0.001  \n",
       "2                   18  37  21  47  24  17  0.799  0.108  0.022  0.020  0.017  "
      ]
     },
     "execution_count": 27,
     "metadata": {
      "tags": []
     },
     "output_type": "execute_result"
    }
   ],
   "source": [
    "data_train.head(3)"
   ]
  },
  {
   "cell_type": "code",
   "execution_count": 28,
   "metadata": {
    "colab": {
     "base_uri": "https://localhost:8080/",
     "height": 104
    },
    "colab_type": "code",
    "id": "JlgwjfqAslmJ",
    "outputId": "5b8e66b9-926e-4cf7-8408-849baba3f627"
   },
   "outputs": [
    {
     "data": {
      "text/plain": [
       "Index(['price', 'category_id', 'length_of_ad', 'num_of_words',\n",
       "       'average_word_length', 'price_of_single_word', 'price_of_single_char',\n",
       "       'average_price_of_single_word', 'count_of_stop_words', '0', '1', '2',\n",
       "       '3', '4', '5', '6', '7', '8', '9'],\n",
       "      dtype='object')"
      ]
     },
     "execution_count": 28,
     "metadata": {
      "tags": []
     },
     "output_type": "execute_result"
    }
   ],
   "source": [
    "data_train.columns"
   ]
  },
  {
   "cell_type": "code",
   "execution_count": 0,
   "metadata": {
    "colab": {},
    "colab_type": "code",
    "id": "oHixIq_vq7Cn"
   },
   "outputs": [],
   "source": [
    "save_data(data_train, \"xgb_train_data.csv\", index=False)\n",
    "save_data(data_val, \"xgb_val_data.csv\", index=False)"
   ]
  },
  {
   "cell_type": "markdown",
   "metadata": {
    "colab_type": "text",
    "id": "DyKliYsbn9x0"
   },
   "source": [
    "### test"
   ]
  },
  {
   "cell_type": "code",
   "execution_count": 30,
   "metadata": {
    "colab": {
     "base_uri": "https://localhost:8080/",
     "height": 144
    },
    "colab_type": "code",
    "id": "z9R5EB37tHNq",
    "outputId": "b975501b-384a-4047-dac3-346a3e012da6"
   },
   "outputs": [
    {
     "data": {
      "text/html": [
       "<div>\n",
       "<style scoped>\n",
       "    .dataframe tbody tr th:only-of-type {\n",
       "        vertical-align: middle;\n",
       "    }\n",
       "\n",
       "    .dataframe tbody tr th {\n",
       "        vertical-align: top;\n",
       "    }\n",
       "\n",
       "    .dataframe thead th {\n",
       "        text-align: right;\n",
       "    }\n",
       "</style>\n",
       "<table border=\"1\" class=\"dataframe\">\n",
       "  <thead>\n",
       "    <tr style=\"text-align: right;\">\n",
       "      <th></th>\n",
       "      <th>item_id</th>\n",
       "      <th>title</th>\n",
       "      <th>description</th>\n",
       "      <th>price</th>\n",
       "    </tr>\n",
       "  </thead>\n",
       "  <tbody>\n",
       "    <tr>\n",
       "      <th>0</th>\n",
       "      <td>489517</td>\n",
       "      <td>Стоик журнальный сталь</td>\n",
       "      <td>продам журнальный столик изготавливаю столы из...</td>\n",
       "      <td>10000.0</td>\n",
       "    </tr>\n",
       "    <tr>\n",
       "      <th>1</th>\n",
       "      <td>489518</td>\n",
       "      <td>iPhone 5 64Gb</td>\n",
       "      <td>Телефон в хорошем состоянии. Комплект, гаранти...</td>\n",
       "      <td>12500.0</td>\n",
       "    </tr>\n",
       "    <tr>\n",
       "      <th>2</th>\n",
       "      <td>489519</td>\n",
       "      <td>Утеплитель</td>\n",
       "      <td>ТЕПЛОПЕЛЕН-ЛИДЕР ТЕПЛА!!! Толщина утеплителя :...</td>\n",
       "      <td>250.0</td>\n",
       "    </tr>\n",
       "  </tbody>\n",
       "</table>\n",
       "</div>"
      ],
      "text/plain": [
       "   item_id                   title  \\\n",
       "0   489517  Стоик журнальный сталь   \n",
       "1   489518           iPhone 5 64Gb   \n",
       "2   489519              Утеплитель   \n",
       "\n",
       "                                         description    price  \n",
       "0  продам журнальный столик изготавливаю столы из...  10000.0  \n",
       "1  Телефон в хорошем состоянии. Комплект, гаранти...  12500.0  \n",
       "2  ТЕПЛОПЕЛЕН-ЛИДЕР ТЕПЛА!!! Толщина утеплителя :...    250.0  "
      ]
     },
     "execution_count": 30,
     "metadata": {
      "tags": []
     },
     "output_type": "execute_result"
    }
   ],
   "source": [
    "data_test = read_data(\"test.csv\")\n",
    "data_test.head(3)"
   ]
  },
  {
   "cell_type": "code",
   "execution_count": 0,
   "metadata": {
    "colab": {},
    "colab_type": "code",
    "id": "n9kk1JB3oAFE"
   },
   "outputs": [],
   "source": [
    "data_test['length_of_ad'] = data_test.description.apply(lambda x: len(x))\n",
    "data_test['num_of_words'] = data_test.description.apply(lambda x: len(str(x).split()))\n",
    "data_test['average_word_length'] = data_test.apply(lambda x: x['length_of_ad'] / x['num_of_words'], axis=1)\n",
    "data_test['price_of_single_word'] = data_test.apply(lambda x: x['price'] / x['num_of_words'], axis=1)\n",
    "data_test['price_of_single_char'] = data_test.apply(lambda x: x['price'] / x['length_of_ad'], axis=1)\n",
    "data_test['average_price_of_single_word'] = data_test.apply(lambda x: x['average_word_length'] * x['price_of_single_char'], axis=1)\n",
    "\n",
    "stop_words = set(stopwords.words('russian'))\n",
    "data_test['count_of_stop_words'] = data_test.description.apply(lambda x: len([w for w in str(x).lower().split() if w in stop_words]) )\n",
    "\n",
    "df_preds_test= read_data(\"5_preds_of_fasttext.test.csv\")\n"
   ]
  },
  {
   "cell_type": "code",
   "execution_count": 0,
   "metadata": {
    "colab": {},
    "colab_type": "code",
    "id": "uNhw-hkyoAL0"
   },
   "outputs": [],
   "source": [
    "to_del = [\"item_id\", \"description\", \"title\"]\n",
    "data_test.drop(to_del, axis=1, inplace=True)\n",
    "\n",
    "data_test = pd.concat([data_test, df_preds_test], axis=1).drop(\"Unnamed: 0\", axis=1)"
   ]
  },
  {
   "cell_type": "code",
   "execution_count": 33,
   "metadata": {
    "colab": {
     "base_uri": "https://localhost:8080/",
     "height": 104
    },
    "colab_type": "code",
    "id": "rqo3V8sispHg",
    "outputId": "5ab44b0f-8328-4a85-9b17-49aab5d09f8c"
   },
   "outputs": [
    {
     "data": {
      "text/plain": [
       "Index(['price', 'length_of_ad', 'num_of_words', 'average_word_length',\n",
       "       'price_of_single_word', 'price_of_single_char',\n",
       "       'average_price_of_single_word', 'count_of_stop_words', '0', '1', '2',\n",
       "       '3', '4', '5', '6', '7', '8', '9'],\n",
       "      dtype='object')"
      ]
     },
     "execution_count": 33,
     "metadata": {
      "tags": []
     },
     "output_type": "execute_result"
    }
   ],
   "source": [
    "data_test.columns"
   ]
  },
  {
   "cell_type": "code",
   "execution_count": 34,
   "metadata": {
    "colab": {
     "base_uri": "https://localhost:8080/",
     "height": 164
    },
    "colab_type": "code",
    "id": "2GVUml81sdM2",
    "outputId": "5e1d65f0-1def-426c-c542-05aacfe1c757"
   },
   "outputs": [
    {
     "data": {
      "text/html": [
       "<div>\n",
       "<style scoped>\n",
       "    .dataframe tbody tr th:only-of-type {\n",
       "        vertical-align: middle;\n",
       "    }\n",
       "\n",
       "    .dataframe tbody tr th {\n",
       "        vertical-align: top;\n",
       "    }\n",
       "\n",
       "    .dataframe thead th {\n",
       "        text-align: right;\n",
       "    }\n",
       "</style>\n",
       "<table border=\"1\" class=\"dataframe\">\n",
       "  <thead>\n",
       "    <tr style=\"text-align: right;\">\n",
       "      <th></th>\n",
       "      <th>price</th>\n",
       "      <th>length_of_ad</th>\n",
       "      <th>num_of_words</th>\n",
       "      <th>average_word_length</th>\n",
       "      <th>price_of_single_word</th>\n",
       "      <th>price_of_single_char</th>\n",
       "      <th>average_price_of_single_word</th>\n",
       "      <th>count_of_stop_words</th>\n",
       "      <th>0</th>\n",
       "      <th>1</th>\n",
       "      <th>2</th>\n",
       "      <th>3</th>\n",
       "      <th>4</th>\n",
       "      <th>5</th>\n",
       "      <th>6</th>\n",
       "      <th>7</th>\n",
       "      <th>8</th>\n",
       "      <th>9</th>\n",
       "    </tr>\n",
       "  </thead>\n",
       "  <tbody>\n",
       "    <tr>\n",
       "      <th>0</th>\n",
       "      <td>10000.0</td>\n",
       "      <td>168</td>\n",
       "      <td>24</td>\n",
       "      <td>7.0</td>\n",
       "      <td>416.666667</td>\n",
       "      <td>59.523810</td>\n",
       "      <td>416.666667</td>\n",
       "      <td>7</td>\n",
       "      <td>22</td>\n",
       "      <td>23</td>\n",
       "      <td>19</td>\n",
       "      <td>18</td>\n",
       "      <td>20</td>\n",
       "      <td>0.775</td>\n",
       "      <td>0.129</td>\n",
       "      <td>0.070</td>\n",
       "      <td>0.008</td>\n",
       "      <td>0.005</td>\n",
       "    </tr>\n",
       "    <tr>\n",
       "      <th>1</th>\n",
       "      <td>12500.0</td>\n",
       "      <td>213</td>\n",
       "      <td>30</td>\n",
       "      <td>7.1</td>\n",
       "      <td>416.666667</td>\n",
       "      <td>58.685446</td>\n",
       "      <td>416.666667</td>\n",
       "      <td>5</td>\n",
       "      <td>0</td>\n",
       "      <td>6</td>\n",
       "      <td>10</td>\n",
       "      <td>2</td>\n",
       "      <td>11</td>\n",
       "      <td>0.542</td>\n",
       "      <td>0.356</td>\n",
       "      <td>0.051</td>\n",
       "      <td>0.030</td>\n",
       "      <td>0.019</td>\n",
       "    </tr>\n",
       "    <tr>\n",
       "      <th>2</th>\n",
       "      <td>250.0</td>\n",
       "      <td>1064</td>\n",
       "      <td>133</td>\n",
       "      <td>8.0</td>\n",
       "      <td>1.879699</td>\n",
       "      <td>0.234962</td>\n",
       "      <td>1.879699</td>\n",
       "      <td>25</td>\n",
       "      <td>15</td>\n",
       "      <td>21</td>\n",
       "      <td>25</td>\n",
       "      <td>27</td>\n",
       "      <td>17</td>\n",
       "      <td>0.883</td>\n",
       "      <td>0.060</td>\n",
       "      <td>0.031</td>\n",
       "      <td>0.004</td>\n",
       "      <td>0.003</td>\n",
       "    </tr>\n",
       "  </tbody>\n",
       "</table>\n",
       "</div>"
      ],
      "text/plain": [
       "     price  length_of_ad  num_of_words  average_word_length  \\\n",
       "0  10000.0           168            24                  7.0   \n",
       "1  12500.0           213            30                  7.1   \n",
       "2    250.0          1064           133                  8.0   \n",
       "\n",
       "   price_of_single_word  price_of_single_char  average_price_of_single_word  \\\n",
       "0            416.666667             59.523810                    416.666667   \n",
       "1            416.666667             58.685446                    416.666667   \n",
       "2              1.879699              0.234962                      1.879699   \n",
       "\n",
       "   count_of_stop_words   0   1   2   3   4      5      6      7      8      9  \n",
       "0                    7  22  23  19  18  20  0.775  0.129  0.070  0.008  0.005  \n",
       "1                    5   0   6  10   2  11  0.542  0.356  0.051  0.030  0.019  \n",
       "2                   25  15  21  25  27  17  0.883  0.060  0.031  0.004  0.003  "
      ]
     },
     "execution_count": 34,
     "metadata": {
      "tags": []
     },
     "output_type": "execute_result"
    }
   ],
   "source": [
    "data_test.head(3)"
   ]
  },
  {
   "cell_type": "code",
   "execution_count": 0,
   "metadata": {
    "colab": {},
    "colab_type": "code",
    "id": "-d8nMSsfn_-y"
   },
   "outputs": [],
   "source": [
    "save_data(data_test, \"xgb_test_data.csv\", index=False)"
   ]
  },
  {
   "cell_type": "markdown",
   "metadata": {
    "colab_type": "text",
    "id": "jJW8HnrXv-K4"
   },
   "source": [
    "# Выделяем иерархии их файла category csv\n"
   ]
  },
  {
   "cell_type": "code",
   "execution_count": 36,
   "metadata": {
    "colab": {
     "base_uri": "https://localhost:8080/",
     "height": 144
    },
    "colab_type": "code",
    "id": "xiiD8TpDt5k7",
    "outputId": "efcff67a-3006-4147-dc1a-68e7b1110a72"
   },
   "outputs": [
    {
     "data": {
      "text/html": [
       "<div>\n",
       "<style scoped>\n",
       "    .dataframe tbody tr th:only-of-type {\n",
       "        vertical-align: middle;\n",
       "    }\n",
       "\n",
       "    .dataframe tbody tr th {\n",
       "        vertical-align: top;\n",
       "    }\n",
       "\n",
       "    .dataframe thead th {\n",
       "        text-align: right;\n",
       "    }\n",
       "</style>\n",
       "<table border=\"1\" class=\"dataframe\">\n",
       "  <thead>\n",
       "    <tr style=\"text-align: right;\">\n",
       "      <th></th>\n",
       "      <th>category_id</th>\n",
       "      <th>name</th>\n",
       "    </tr>\n",
       "  </thead>\n",
       "  <tbody>\n",
       "    <tr>\n",
       "      <th>0</th>\n",
       "      <td>0</td>\n",
       "      <td>Бытовая электроника|Телефоны|iPhone</td>\n",
       "    </tr>\n",
       "    <tr>\n",
       "      <th>1</th>\n",
       "      <td>1</td>\n",
       "      <td>Бытовая электроника|Ноутбуки</td>\n",
       "    </tr>\n",
       "    <tr>\n",
       "      <th>2</th>\n",
       "      <td>2</td>\n",
       "      <td>Бытовая электроника|Телефоны|Samsung</td>\n",
       "    </tr>\n",
       "  </tbody>\n",
       "</table>\n",
       "</div>"
      ],
      "text/plain": [
       "   category_id                                  name\n",
       "0            0   Бытовая электроника|Телефоны|iPhone\n",
       "1            1          Бытовая электроника|Ноутбуки\n",
       "2            2  Бытовая электроника|Телефоны|Samsung"
      ]
     },
     "execution_count": 36,
     "metadata": {
      "tags": []
     },
     "output_type": "execute_result"
    }
   ],
   "source": [
    "cat = read_data('category.csv')\n",
    "cat.head(3)"
   ]
  },
  {
   "cell_type": "code",
   "execution_count": 37,
   "metadata": {
    "colab": {
     "base_uri": "https://localhost:8080/",
     "height": 144
    },
    "colab_type": "code",
    "id": "RnMZItWMt_rp",
    "outputId": "e6ab668e-9e9c-4fec-a553-04551cf21819"
   },
   "outputs": [
    {
     "data": {
      "text/html": [
       "<div>\n",
       "<style scoped>\n",
       "    .dataframe tbody tr th:only-of-type {\n",
       "        vertical-align: middle;\n",
       "    }\n",
       "\n",
       "    .dataframe tbody tr th {\n",
       "        vertical-align: top;\n",
       "    }\n",
       "\n",
       "    .dataframe thead th {\n",
       "        text-align: right;\n",
       "    }\n",
       "</style>\n",
       "<table border=\"1\" class=\"dataframe\">\n",
       "  <thead>\n",
       "    <tr style=\"text-align: right;\">\n",
       "      <th></th>\n",
       "      <th>cat_hier_0</th>\n",
       "      <th>cat_hier_1</th>\n",
       "      <th>cat_hier_2</th>\n",
       "      <th>cat_hier_3</th>\n",
       "      <th>category_id</th>\n",
       "    </tr>\n",
       "  </thead>\n",
       "  <tbody>\n",
       "    <tr>\n",
       "      <th>0</th>\n",
       "      <td>Бытовая электроника</td>\n",
       "      <td>Телефоны</td>\n",
       "      <td>iPhone</td>\n",
       "      <td>NaN</td>\n",
       "      <td>0</td>\n",
       "    </tr>\n",
       "    <tr>\n",
       "      <th>1</th>\n",
       "      <td>Бытовая электроника</td>\n",
       "      <td>Ноутбуки</td>\n",
       "      <td>NaN</td>\n",
       "      <td>NaN</td>\n",
       "      <td>1</td>\n",
       "    </tr>\n",
       "    <tr>\n",
       "      <th>2</th>\n",
       "      <td>Бытовая электроника</td>\n",
       "      <td>Телефоны</td>\n",
       "      <td>Samsung</td>\n",
       "      <td>NaN</td>\n",
       "      <td>2</td>\n",
       "    </tr>\n",
       "  </tbody>\n",
       "</table>\n",
       "</div>"
      ],
      "text/plain": [
       "            cat_hier_0 cat_hier_1 cat_hier_2 cat_hier_3  category_id\n",
       "0  Бытовая электроника   Телефоны     iPhone        NaN            0\n",
       "1  Бытовая электроника   Ноутбуки        NaN        NaN            1\n",
       "2  Бытовая электроника   Телефоны    Samsung        NaN            2"
      ]
     },
     "execution_count": 37,
     "metadata": {
      "tags": []
     },
     "output_type": "execute_result"
    }
   ],
   "source": [
    "# https://chrisalbon.com/python/data_wrangling/pandas_expand_cells_containing_lists/\n",
    "\n",
    "cat_hier = cat.name.apply(lambda x: x.split('|')).apply(pd.Series)\n",
    "cat_hier = cat_hier.rename(columns = lambda x : 'cat_hier_' + str(x))\n",
    "cat_hier = pd.concat([cat_hier, cat.category_id], axis=1)\n",
    "cat_hier.to_csv(os.path.join(DATA_PATH, \"cat_hier.csv\"), index=False)\n",
    "cat_hier.head(3)"
   ]
  },
  {
   "cell_type": "markdown",
   "metadata": {
    "colab_type": "text",
    "id": "MK7z6ViaPR1r"
   },
   "source": [
    "# Стакаем xgboost поверх fasttext"
   ]
  },
  {
   "cell_type": "code",
   "execution_count": 38,
   "metadata": {
    "colab": {
     "base_uri": "https://localhost:8080/",
     "height": 164
    },
    "colab_type": "code",
    "id": "DyGmXGRWS5zy",
    "outputId": "950a72e8-fa10-42b2-d44d-0af5764deda2"
   },
   "outputs": [
    {
     "data": {
      "text/html": [
       "<div>\n",
       "<style scoped>\n",
       "    .dataframe tbody tr th:only-of-type {\n",
       "        vertical-align: middle;\n",
       "    }\n",
       "\n",
       "    .dataframe tbody tr th {\n",
       "        vertical-align: top;\n",
       "    }\n",
       "\n",
       "    .dataframe thead th {\n",
       "        text-align: right;\n",
       "    }\n",
       "</style>\n",
       "<table border=\"1\" class=\"dataframe\">\n",
       "  <thead>\n",
       "    <tr style=\"text-align: right;\">\n",
       "      <th></th>\n",
       "      <th>price</th>\n",
       "      <th>category_id</th>\n",
       "      <th>length_of_ad</th>\n",
       "      <th>num_of_words</th>\n",
       "      <th>average_word_length</th>\n",
       "      <th>price_of_single_word</th>\n",
       "      <th>price_of_single_char</th>\n",
       "      <th>average_price_of_single_word</th>\n",
       "      <th>count_of_stop_words</th>\n",
       "      <th>0</th>\n",
       "      <th>1</th>\n",
       "      <th>2</th>\n",
       "      <th>3</th>\n",
       "      <th>4</th>\n",
       "      <th>5</th>\n",
       "      <th>6</th>\n",
       "      <th>7</th>\n",
       "      <th>8</th>\n",
       "      <th>9</th>\n",
       "    </tr>\n",
       "  </thead>\n",
       "  <tbody>\n",
       "    <tr>\n",
       "      <th>91114</th>\n",
       "      <td>2900.0</td>\n",
       "      <td>25</td>\n",
       "      <td>166</td>\n",
       "      <td>22</td>\n",
       "      <td>7.545455</td>\n",
       "      <td>131.818182</td>\n",
       "      <td>17.469880</td>\n",
       "      <td>131.818182</td>\n",
       "      <td>6</td>\n",
       "      <td>25</td>\n",
       "      <td>23</td>\n",
       "      <td>15</td>\n",
       "      <td>21</td>\n",
       "      <td>18</td>\n",
       "      <td>1.000</td>\n",
       "      <td>0.000</td>\n",
       "      <td>0.0</td>\n",
       "      <td>0.0</td>\n",
       "      <td>0.0</td>\n",
       "    </tr>\n",
       "    <tr>\n",
       "      <th>91115</th>\n",
       "      <td>300.0</td>\n",
       "      <td>9</td>\n",
       "      <td>47</td>\n",
       "      <td>6</td>\n",
       "      <td>7.833333</td>\n",
       "      <td>50.000000</td>\n",
       "      <td>6.382979</td>\n",
       "      <td>50.000000</td>\n",
       "      <td>1</td>\n",
       "      <td>9</td>\n",
       "      <td>2</td>\n",
       "      <td>3</td>\n",
       "      <td>0</td>\n",
       "      <td>6</td>\n",
       "      <td>0.665</td>\n",
       "      <td>0.335</td>\n",
       "      <td>0.0</td>\n",
       "      <td>0.0</td>\n",
       "      <td>0.0</td>\n",
       "    </tr>\n",
       "    <tr>\n",
       "      <th>91116</th>\n",
       "      <td>19000.0</td>\n",
       "      <td>50</td>\n",
       "      <td>572</td>\n",
       "      <td>72</td>\n",
       "      <td>7.944444</td>\n",
       "      <td>263.888889</td>\n",
       "      <td>33.216783</td>\n",
       "      <td>263.888889</td>\n",
       "      <td>5</td>\n",
       "      <td>50</td>\n",
       "      <td>52</td>\n",
       "      <td>49</td>\n",
       "      <td>3</td>\n",
       "      <td>30</td>\n",
       "      <td>1.000</td>\n",
       "      <td>0.000</td>\n",
       "      <td>0.0</td>\n",
       "      <td>0.0</td>\n",
       "      <td>0.0</td>\n",
       "    </tr>\n",
       "  </tbody>\n",
       "</table>\n",
       "</div>"
      ],
      "text/plain": [
       "         price  category_id  length_of_ad  num_of_words  average_word_length  \\\n",
       "91114   2900.0           25           166            22             7.545455   \n",
       "91115    300.0            9            47             6             7.833333   \n",
       "91116  19000.0           50           572            72             7.944444   \n",
       "\n",
       "       price_of_single_word  price_of_single_char  \\\n",
       "91114            131.818182             17.469880   \n",
       "91115             50.000000              6.382979   \n",
       "91116            263.888889             33.216783   \n",
       "\n",
       "       average_price_of_single_word  count_of_stop_words   0   1   2   3   4  \\\n",
       "91114                    131.818182                    6  25  23  15  21  18   \n",
       "91115                     50.000000                    1   9   2   3   0   6   \n",
       "91116                    263.888889                    5  50  52  49   3  30   \n",
       "\n",
       "           5      6    7    8    9  \n",
       "91114  1.000  0.000  0.0  0.0  0.0  \n",
       "91115  0.665  0.335  0.0  0.0  0.0  \n",
       "91116  1.000  0.000  0.0  0.0  0.0  "
      ]
     },
     "execution_count": 38,
     "metadata": {
      "tags": []
     },
     "output_type": "execute_result"
    }
   ],
   "source": [
    "data_train = read_data(\"xgb_train_data.csv\")\n",
    "data_val = read_data(\"xgb_val_data.csv\")\n",
    "data_val.tail(3)"
   ]
  },
  {
   "cell_type": "code",
   "execution_count": 0,
   "metadata": {
    "colab": {},
    "colab_type": "code",
    "id": "ro4IyEO8ghOc"
   },
   "outputs": [],
   "source": [
    "X_train, y_train = data_train.drop('category_id', axis=1).values, data_train.category_id.values\n",
    "X_val, y_val = data_val.drop('category_id', axis=1).values, data_val.category_id.values"
   ]
  },
  {
   "cell_type": "code",
   "execution_count": 0,
   "metadata": {
    "colab": {},
    "colab_type": "code",
    "id": "K9L0vNYoa-gZ"
   },
   "outputs": [],
   "source": [
    "file_saved_xgb = os.path.join(DATA_PATH, \"xgb_model_600_est\")"
   ]
  },
  {
   "cell_type": "code",
   "execution_count": 0,
   "metadata": {
    "colab": {},
    "colab_type": "code",
    "id": "UwrTj3fMfp8e"
   },
   "outputs": [],
   "source": [
    "xgb = XGBClassifier(n_estimators=600, tree_method='gpu_hist', objective=\"multi:softprob\", num_class=54)\n",
    "xgb.fit(X_train, y_train)\n",
    "joblib.dump(xgb, file_saved_xgb) "
   ]
  },
  {
   "cell_type": "code",
   "execution_count": 0,
   "metadata": {
    "colab": {},
    "colab_type": "code",
    "id": "LMoez3noa8Z-"
   },
   "outputs": [],
   "source": [
    "xgb = joblib.load(file_saved_xgb)"
   ]
  },
  {
   "cell_type": "code",
   "execution_count": 0,
   "metadata": {
    "colab": {},
    "colab_type": "code",
    "id": "n4R6v1Qfa8zt"
   },
   "outputs": [],
   "source": [
    "preds = xgb.predict(X_val)"
   ]
  },
  {
   "cell_type": "markdown",
   "metadata": {
    "colab_type": "text",
    "id": "iRgdxabMc-HI"
   },
   "source": [
    "# Оцениваем качество модели по accuracy"
   ]
  },
  {
   "cell_type": "markdown",
   "metadata": {
    "colab_type": "text",
    "id": "gjphAIZAdIpE"
   },
   "source": [
    "## Выделяем иерархии из файла category csv"
   ]
  },
  {
   "cell_type": "code",
   "execution_count": 50,
   "metadata": {
    "colab": {
     "base_uri": "https://localhost:8080/",
     "height": 144
    },
    "colab_type": "code",
    "id": "Cdw5DpEZdJXX",
    "outputId": "615f82bd-6e61-421c-97e7-d416dabcb85d"
   },
   "outputs": [
    {
     "data": {
      "text/html": [
       "<div>\n",
       "<style scoped>\n",
       "    .dataframe tbody tr th:only-of-type {\n",
       "        vertical-align: middle;\n",
       "    }\n",
       "\n",
       "    .dataframe tbody tr th {\n",
       "        vertical-align: top;\n",
       "    }\n",
       "\n",
       "    .dataframe thead th {\n",
       "        text-align: right;\n",
       "    }\n",
       "</style>\n",
       "<table border=\"1\" class=\"dataframe\">\n",
       "  <thead>\n",
       "    <tr style=\"text-align: right;\">\n",
       "      <th></th>\n",
       "      <th>category_id</th>\n",
       "      <th>name</th>\n",
       "    </tr>\n",
       "  </thead>\n",
       "  <tbody>\n",
       "    <tr>\n",
       "      <th>0</th>\n",
       "      <td>0</td>\n",
       "      <td>Бытовая электроника|Телефоны|iPhone</td>\n",
       "    </tr>\n",
       "    <tr>\n",
       "      <th>1</th>\n",
       "      <td>1</td>\n",
       "      <td>Бытовая электроника|Ноутбуки</td>\n",
       "    </tr>\n",
       "    <tr>\n",
       "      <th>2</th>\n",
       "      <td>2</td>\n",
       "      <td>Бытовая электроника|Телефоны|Samsung</td>\n",
       "    </tr>\n",
       "  </tbody>\n",
       "</table>\n",
       "</div>"
      ],
      "text/plain": [
       "   category_id                                  name\n",
       "0            0   Бытовая электроника|Телефоны|iPhone\n",
       "1            1          Бытовая электроника|Ноутбуки\n",
       "2            2  Бытовая электроника|Телефоны|Samsung"
      ]
     },
     "execution_count": 50,
     "metadata": {
      "tags": []
     },
     "output_type": "execute_result"
    }
   ],
   "source": [
    "cat = read_data('category.csv')\n",
    "cat.head(3)"
   ]
  },
  {
   "cell_type": "code",
   "execution_count": 51,
   "metadata": {
    "colab": {
     "base_uri": "https://localhost:8080/",
     "height": 144
    },
    "colab_type": "code",
    "id": "4FtnSwMQdPe4",
    "outputId": "38c44f45-a003-41b8-9cb2-67d0691b2c7a"
   },
   "outputs": [
    {
     "data": {
      "text/html": [
       "<div>\n",
       "<style scoped>\n",
       "    .dataframe tbody tr th:only-of-type {\n",
       "        vertical-align: middle;\n",
       "    }\n",
       "\n",
       "    .dataframe tbody tr th {\n",
       "        vertical-align: top;\n",
       "    }\n",
       "\n",
       "    .dataframe thead th {\n",
       "        text-align: right;\n",
       "    }\n",
       "</style>\n",
       "<table border=\"1\" class=\"dataframe\">\n",
       "  <thead>\n",
       "    <tr style=\"text-align: right;\">\n",
       "      <th></th>\n",
       "      <th>cat_hier_0</th>\n",
       "      <th>cat_hier_1</th>\n",
       "      <th>cat_hier_2</th>\n",
       "      <th>cat_hier_3</th>\n",
       "      <th>category_id</th>\n",
       "    </tr>\n",
       "  </thead>\n",
       "  <tbody>\n",
       "    <tr>\n",
       "      <th>0</th>\n",
       "      <td>Бытовая электроника</td>\n",
       "      <td>Телефоны</td>\n",
       "      <td>iPhone</td>\n",
       "      <td>NaN</td>\n",
       "      <td>0</td>\n",
       "    </tr>\n",
       "    <tr>\n",
       "      <th>1</th>\n",
       "      <td>Бытовая электроника</td>\n",
       "      <td>Ноутбуки</td>\n",
       "      <td>NaN</td>\n",
       "      <td>NaN</td>\n",
       "      <td>1</td>\n",
       "    </tr>\n",
       "    <tr>\n",
       "      <th>2</th>\n",
       "      <td>Бытовая электроника</td>\n",
       "      <td>Телефоны</td>\n",
       "      <td>Samsung</td>\n",
       "      <td>NaN</td>\n",
       "      <td>2</td>\n",
       "    </tr>\n",
       "  </tbody>\n",
       "</table>\n",
       "</div>"
      ],
      "text/plain": [
       "            cat_hier_0 cat_hier_1 cat_hier_2 cat_hier_3  category_id\n",
       "0  Бытовая электроника   Телефоны     iPhone        NaN            0\n",
       "1  Бытовая электроника   Ноутбуки        NaN        NaN            1\n",
       "2  Бытовая электроника   Телефоны    Samsung        NaN            2"
      ]
     },
     "execution_count": 51,
     "metadata": {
      "tags": []
     },
     "output_type": "execute_result"
    }
   ],
   "source": [
    "# https://chrisalbon.com/python/data_wrangling/pandas_expand_cells_containing_lists/\n",
    "\n",
    "cat_hier = cat.name.apply(lambda x: x.split('|')).apply(pd.Series)\n",
    "cat_hier = cat_hier.rename(columns = lambda x : 'cat_hier_' + str(x))\n",
    "cat_hier = pd.concat([cat_hier, cat.category_id], axis=1)\n",
    "cat_hier.to_csv(os.path.join(DATA_PATH, \"cat_hier.csv\"), index=False)\n",
    "cat_hier.head(3)"
   ]
  },
  {
   "cell_type": "markdown",
   "metadata": {
    "colab_type": "text",
    "id": "OA4SEw-9dJpJ"
   },
   "source": [
    "## Считаем accuracy по каждому уровню иерархии"
   ]
  },
  {
   "cell_type": "code",
   "execution_count": 0,
   "metadata": {
    "colab": {},
    "colab_type": "code",
    "id": "9vYlAjDOIWjP"
   },
   "outputs": [],
   "source": [
    "def calc_hier_acc(y_val, preds):\n",
    "  \"\"\"\n",
    "  Возвращает accuracy по каждому уровню иерархии категорий\n",
    "  \n",
    "  y_val - массив категорий\n",
    "  preds - массив предсказанных категорий\n",
    "  \"\"\"\n",
    "  assert isinstance(y_val, np.ndarray) and \\\n",
    "         isinstance(preds, np.ndarray) and \\\n",
    "         len(y_val.shape) == 1 and \\\n",
    "         len(preds.shape) == 1 and \\\n",
    "         y_val.shape == preds.shape\n",
    "  \n",
    "  hier_acc = []\n",
    "  for hier_level in range(1, 4):\n",
    "    col_name = f'cat_hier_{hier_level}'\n",
    "    cat = read_data('cat_hier.csv').loc[:, [col_name, 'category_id']]\n",
    "    \n",
    "    # https://stackoverflow.com/questions/18695605/python-pandas-dataframe-to-dictionary\n",
    "    d = cat.set_index('category_id')[col_name].to_dict()\n",
    "    d = {k: g[\"category_id\"].tolist() for k, g in cat.groupby(col_name)}\n",
    "\n",
    "    to_return = {}\n",
    "    for cat_name, cat_id_list in d.items():\n",
    "      idx = np.argwhere(np.isin(y_val.reshape(-1), cat_id_list)).reshape(-1)\n",
    "      to_return[cat_name] = np.average(y_val[idx].reshape(-1) == preds[idx].reshape(-1))\n",
    "      to_return[cat_name] = np.around(to_return[cat_name], 3)\n",
    "\n",
    "    hier_acc.append(to_return)\n",
    "    \n",
    "  return hier_acc"
   ]
  },
  {
   "cell_type": "code",
   "execution_count": 77,
   "metadata": {
    "colab": {
     "base_uri": "https://localhost:8080/",
     "height": 1302
    },
    "colab_type": "code",
    "id": "ke5srH97LKKL",
    "outputId": "53cf0bea-27c2-4332-fa88-e3fddaf81a2f"
   },
   "outputs": [
    {
     "data": {
      "text/plain": [
       "[{'Аудио и видео': 0.943,\n",
       "  'Билеты и путешествия': 0.991,\n",
       "  'Бытовая техника': 0.961,\n",
       "  'Велосипеды': 0.939,\n",
       "  'Игры, приставки и программы': 0.932,\n",
       "  'Книги и журналы': 0.839,\n",
       "  'Коллекционирование': 0.795,\n",
       "  'Красота и здоровье': 0.894,\n",
       "  'Мебель и интерьер': 0.79,\n",
       "  'Музыкальные инструменты': 0.905,\n",
       "  'Настольные компьютеры': 0.952,\n",
       "  'Ноутбуки': 0.952,\n",
       "  'Одежда, обувь, аксессуары': 0.843,\n",
       "  'Охота и рыбалка': 0.877,\n",
       "  'Планшеты и электронные книги': 0.937,\n",
       "  'Посуда и товары для кухни': 0.879,\n",
       "  'Растения': 0.94,\n",
       "  'Ремонт и строительство': 0.902,\n",
       "  'Спорт и отдых': 0.806,\n",
       "  'Телефоны': 0.896,\n",
       "  'Товары для детей и игрушки': 0.834,\n",
       "  'Товары для компьютера': 0.951,\n",
       "  'Часы и украшения': 0.947},\n",
       " {'Nokia': 0.917,\n",
       "  'Samsung': 0.892,\n",
       "  'Sony': 0.938,\n",
       "  'iPhone': 0.925,\n",
       "  'Аксессуары': 0.803,\n",
       "  'Акустика, колонки, сабвуферы': 0.934,\n",
       "  'Гитары и другие струнные': 0.931,\n",
       "  'Двери': 0.959,\n",
       "  'Детская мебель': 0.729,\n",
       "  'Детские коляски': 0.921,\n",
       "  'Для дома': 0.975,\n",
       "  'Для кухни': 0.948,\n",
       "  'Для студии и концертов': 0.878,\n",
       "  'Другие марки': 0.796,\n",
       "  'Другое': 0.541,\n",
       "  'Женская одежда': 0.877,\n",
       "  'Запчасти и аксессуары': 0.939,\n",
       "  'Зимние виды спорта': 0.929,\n",
       "  'Игровые приставки': 0.937,\n",
       "  'Игрушки': 0.784,\n",
       "  'Игры для приставок': 0.928,\n",
       "  'Инструменты': 0.898,\n",
       "  'Книги': 0.829,\n",
       "  'Кровати, диваны и кресла': 0.828,\n",
       "  'Монеты': 0.968,\n",
       "  'Мониторы': 0.952,\n",
       "  'Освещение': 0.952,\n",
       "  'Планшеты': 0.937,\n",
       "  'Посуда': 0.879,\n",
       "  'Предметы интерьера, искусство': 0.62,\n",
       "  'Приборы и аксессуары': 0.894,\n",
       "  'Путешествия': 0.991,\n",
       "  'Сантехника и сауна': 0.892,\n",
       "  'Сетевое оборудование': 0.949,\n",
       "  'Столы и стулья': 0.921,\n",
       "  'Стройматериалы': 0.865,\n",
       "  'Текстиль и ковры': 0.922,\n",
       "  'Телевизоры и проекторы': 0.953,\n",
       "  'Товары для кормления': 0.896,\n",
       "  'Учебная литература': 0.85,\n",
       "  'Фитнес и тренажёры': 0.895,\n",
       "  'Часы': 0.945,\n",
       "  'Шкафы и комоды': 0.872,\n",
       "  'Ювелирные изделия': 0.951},\n",
       " {'Верхняя одежда': 0.921,\n",
       "  'Другое': 0.652,\n",
       "  'Мелкая кухонная техника': 0.948,\n",
       "  'Обувь': 0.956,\n",
       "  'Платья и юбки': 0.954,\n",
       "  'Стиральные машины': 0.975,\n",
       "  'Чехлы и плёнки': 0.911}]"
      ]
     },
     "execution_count": 77,
     "metadata": {
      "tags": []
     },
     "output_type": "execute_result"
    }
   ],
   "source": [
    "acc_hier = calc_hier_acc(y_val, preds)\n",
    "acc_hier"
   ]
  },
  {
   "cell_type": "code",
   "execution_count": 0,
   "metadata": {
    "colab": {},
    "colab_type": "code",
    "id": "o4APQde1fOYF"
   },
   "outputs": [],
   "source": [
    "import json\n",
    "with open(os.path.join(DATA_PATH, 'Accuracy по каждому уровню иерархии.txt'), 'w') as outfile:  \n",
    "    json.dump(acc_hier, outfile)"
   ]
  },
  {
   "cell_type": "markdown",
   "metadata": {
    "colab_type": "text",
    "id": "ej-nPIrsgldc"
   },
   "source": [
    "## Считаем среднюю accuracy и accuracy по category_id без разделения на уровни иерархии"
   ]
  },
  {
   "cell_type": "code",
   "execution_count": 0,
   "metadata": {
    "colab": {},
    "colab_type": "code",
    "id": "-ByEUBx81tTx"
   },
   "outputs": [],
   "source": [
    "def calc_accuracy(y_test, y_pred):\n",
    "  \"\"\"\n",
    "  Возвращает среднюю accuracy и accuracy по category_id без разделения на \n",
    "  уровни иерархии\n",
    "  \n",
    "  Формат вывода:\n",
    "  \n",
    "  <category_id>: <accuracy>\n",
    "  \"\"\"\n",
    "  t = confusion_matrix(y_test, y_pred)\n",
    "\n",
    "\n",
    "  q = []\n",
    "  for i in range(t.shape[0]):\n",
    "    accuracy_i = t[i, i] / t[:, i].sum()\n",
    "    accuracy_i = round(accuracy_i, 3)\n",
    "    q.append(accuracy_i)\n",
    "\n",
    "  print(\"mean accuracy\")\n",
    "  print(np.mean(q))\n",
    "\n",
    "  print(\"----------\")\n",
    "  print(\"accuracy by categories\\n\")\n",
    "\n",
    "  for idx, i in enumerate(q):\n",
    "    print(f\"{idx}: {i}\")"
   ]
  },
  {
   "cell_type": "code",
   "execution_count": 75,
   "metadata": {
    "colab": {
     "base_uri": "https://localhost:8080/",
     "height": 1042
    },
    "colab_type": "code",
    "id": "XBiiRDvtAsyE",
    "outputId": "a732e0c9-f15e-41e9-bbc4-855eaeb6bb6e"
   },
   "outputs": [
    {
     "name": "stdout",
     "output_type": "stream",
     "text": [
      "mean accuracy\n",
      "0.8750185185185186\n",
      "----------\n",
      "accuracy by categories\n",
      "\n",
      "0: 0.918\n",
      "1: 0.947\n",
      "2: 0.884\n",
      "3: 0.926\n",
      "4: 0.914\n",
      "5: 0.955\n",
      "6: 0.854\n",
      "7: 0.959\n",
      "8: 0.934\n",
      "9: 0.869\n",
      "10: 0.896\n",
      "11: 0.942\n",
      "12: 0.921\n",
      "13: 0.953\n",
      "14: 0.967\n",
      "15: 0.849\n",
      "16: 0.843\n",
      "17: 0.864\n",
      "18: 0.814\n",
      "19: 0.626\n",
      "20: 0.841\n",
      "21: 0.907\n",
      "22: 0.901\n",
      "23: 0.504\n",
      "24: 0.957\n",
      "25: 0.961\n",
      "26: 0.99\n",
      "27: 0.884\n",
      "28: 0.936\n",
      "29: 0.959\n",
      "30: 0.79\n",
      "31: 0.712\n",
      "32: 0.908\n",
      "33: 0.888\n",
      "34: 0.748\n",
      "35: 0.945\n",
      "36: 0.932\n",
      "37: 0.89\n",
      "38: 0.686\n",
      "39: 0.932\n",
      "40: 0.954\n",
      "41: 0.854\n",
      "42: 0.864\n",
      "43: 0.841\n",
      "44: 0.609\n",
      "45: 0.964\n",
      "46: 0.889\n",
      "47: 0.682\n",
      "48: 0.994\n",
      "49: 0.869\n",
      "50: 0.953\n",
      "51: 0.856\n",
      "52: 0.871\n",
      "53: 0.945\n"
     ]
    }
   ],
   "source": [
    "calc_accuracy(y_val, preds)"
   ]
  },
  {
   "cell_type": "markdown",
   "metadata": {
    "colab_type": "text",
    "id": "jSJLx5sRKnTJ"
   },
   "source": [
    "# Делаем предсказания для тестовой выборки"
   ]
  },
  {
   "cell_type": "code",
   "execution_count": 79,
   "metadata": {
    "colab": {
     "base_uri": "https://localhost:8080/",
     "height": 164
    },
    "colab_type": "code",
    "id": "6cCXCCOIJPMp",
    "outputId": "3d44d077-2876-425f-92bc-672b9131d981"
   },
   "outputs": [
    {
     "data": {
      "text/html": [
       "<div>\n",
       "<style scoped>\n",
       "    .dataframe tbody tr th:only-of-type {\n",
       "        vertical-align: middle;\n",
       "    }\n",
       "\n",
       "    .dataframe tbody tr th {\n",
       "        vertical-align: top;\n",
       "    }\n",
       "\n",
       "    .dataframe thead th {\n",
       "        text-align: right;\n",
       "    }\n",
       "</style>\n",
       "<table border=\"1\" class=\"dataframe\">\n",
       "  <thead>\n",
       "    <tr style=\"text-align: right;\">\n",
       "      <th></th>\n",
       "      <th>price</th>\n",
       "      <th>length_of_ad</th>\n",
       "      <th>num_of_words</th>\n",
       "      <th>average_word_length</th>\n",
       "      <th>price_of_single_word</th>\n",
       "      <th>price_of_single_char</th>\n",
       "      <th>average_price_of_single_word</th>\n",
       "      <th>count_of_stop_words</th>\n",
       "      <th>0</th>\n",
       "      <th>1</th>\n",
       "      <th>2</th>\n",
       "      <th>3</th>\n",
       "      <th>4</th>\n",
       "      <th>5</th>\n",
       "      <th>6</th>\n",
       "      <th>7</th>\n",
       "      <th>8</th>\n",
       "      <th>9</th>\n",
       "    </tr>\n",
       "  </thead>\n",
       "  <tbody>\n",
       "    <tr>\n",
       "      <th>0</th>\n",
       "      <td>10000.0</td>\n",
       "      <td>168</td>\n",
       "      <td>24</td>\n",
       "      <td>7.0</td>\n",
       "      <td>416.666667</td>\n",
       "      <td>59.523810</td>\n",
       "      <td>416.666667</td>\n",
       "      <td>7</td>\n",
       "      <td>22</td>\n",
       "      <td>23</td>\n",
       "      <td>19</td>\n",
       "      <td>18</td>\n",
       "      <td>20</td>\n",
       "      <td>0.775</td>\n",
       "      <td>0.129</td>\n",
       "      <td>0.070</td>\n",
       "      <td>0.008</td>\n",
       "      <td>0.005</td>\n",
       "    </tr>\n",
       "    <tr>\n",
       "      <th>1</th>\n",
       "      <td>12500.0</td>\n",
       "      <td>213</td>\n",
       "      <td>30</td>\n",
       "      <td>7.1</td>\n",
       "      <td>416.666667</td>\n",
       "      <td>58.685446</td>\n",
       "      <td>416.666667</td>\n",
       "      <td>5</td>\n",
       "      <td>0</td>\n",
       "      <td>6</td>\n",
       "      <td>10</td>\n",
       "      <td>2</td>\n",
       "      <td>11</td>\n",
       "      <td>0.542</td>\n",
       "      <td>0.356</td>\n",
       "      <td>0.051</td>\n",
       "      <td>0.030</td>\n",
       "      <td>0.019</td>\n",
       "    </tr>\n",
       "    <tr>\n",
       "      <th>2</th>\n",
       "      <td>250.0</td>\n",
       "      <td>1064</td>\n",
       "      <td>133</td>\n",
       "      <td>8.0</td>\n",
       "      <td>1.879699</td>\n",
       "      <td>0.234962</td>\n",
       "      <td>1.879699</td>\n",
       "      <td>25</td>\n",
       "      <td>15</td>\n",
       "      <td>21</td>\n",
       "      <td>25</td>\n",
       "      <td>27</td>\n",
       "      <td>17</td>\n",
       "      <td>0.883</td>\n",
       "      <td>0.060</td>\n",
       "      <td>0.031</td>\n",
       "      <td>0.004</td>\n",
       "      <td>0.003</td>\n",
       "    </tr>\n",
       "  </tbody>\n",
       "</table>\n",
       "</div>"
      ],
      "text/plain": [
       "     price  length_of_ad  num_of_words  average_word_length  \\\n",
       "0  10000.0           168            24                  7.0   \n",
       "1  12500.0           213            30                  7.1   \n",
       "2    250.0          1064           133                  8.0   \n",
       "\n",
       "   price_of_single_word  price_of_single_char  average_price_of_single_word  \\\n",
       "0            416.666667             59.523810                    416.666667   \n",
       "1            416.666667             58.685446                    416.666667   \n",
       "2              1.879699              0.234962                      1.879699   \n",
       "\n",
       "   count_of_stop_words   0   1   2   3   4      5      6      7      8      9  \n",
       "0                    7  22  23  19  18  20  0.775  0.129  0.070  0.008  0.005  \n",
       "1                    5   0   6  10   2  11  0.542  0.356  0.051  0.030  0.019  \n",
       "2                   25  15  21  25  27  17  0.883  0.060  0.031  0.004  0.003  "
      ]
     },
     "execution_count": 79,
     "metadata": {
      "tags": []
     },
     "output_type": "execute_result"
    }
   ],
   "source": [
    "data_test = read_data(\"xgb_test_data.csv\")\n",
    "data_test.head(3)"
   ]
  },
  {
   "cell_type": "code",
   "execution_count": 80,
   "metadata": {
    "colab": {
     "base_uri": "https://localhost:8080/",
     "height": 104
    },
    "colab_type": "code",
    "id": "zDlxN3DcLEsO",
    "outputId": "31a4257c-a887-4d45-d023-d771c56cd2dc"
   },
   "outputs": [
    {
     "data": {
      "text/plain": [
       "Index(['price', 'length_of_ad', 'num_of_words', 'average_word_length',\n",
       "       'price_of_single_word', 'price_of_single_char',\n",
       "       'average_price_of_single_word', 'count_of_stop_words', '0', '1', '2',\n",
       "       '3', '4', '5', '6', '7', '8', '9'],\n",
       "      dtype='object')"
      ]
     },
     "execution_count": 80,
     "metadata": {
      "tags": []
     },
     "output_type": "execute_result"
    }
   ],
   "source": [
    "data_test.columns"
   ]
  },
  {
   "cell_type": "code",
   "execution_count": 0,
   "metadata": {
    "colab": {},
    "colab_type": "code",
    "id": "FfFIXYJhLH-U"
   },
   "outputs": [],
   "source": [
    "preds_test = xgb.predict(data_test.values)"
   ]
  },
  {
   "cell_type": "code",
   "execution_count": 82,
   "metadata": {
    "colab": {
     "base_uri": "https://localhost:8080/",
     "height": 144
    },
    "colab_type": "code",
    "id": "nukM_rXrLIFH",
    "outputId": "4b99a738-eda4-45d9-9d6a-67bb304be4a9"
   },
   "outputs": [
    {
     "data": {
      "text/html": [
       "<div>\n",
       "<style scoped>\n",
       "    .dataframe tbody tr th:only-of-type {\n",
       "        vertical-align: middle;\n",
       "    }\n",
       "\n",
       "    .dataframe tbody tr th {\n",
       "        vertical-align: top;\n",
       "    }\n",
       "\n",
       "    .dataframe thead th {\n",
       "        text-align: right;\n",
       "    }\n",
       "</style>\n",
       "<table border=\"1\" class=\"dataframe\">\n",
       "  <thead>\n",
       "    <tr style=\"text-align: right;\">\n",
       "      <th></th>\n",
       "      <th>item_id</th>\n",
       "      <th>title</th>\n",
       "      <th>description</th>\n",
       "      <th>price</th>\n",
       "    </tr>\n",
       "  </thead>\n",
       "  <tbody>\n",
       "    <tr>\n",
       "      <th>0</th>\n",
       "      <td>489517</td>\n",
       "      <td>Стоик журнальный сталь</td>\n",
       "      <td>продам журнальный столик изготавливаю столы из...</td>\n",
       "      <td>10000.0</td>\n",
       "    </tr>\n",
       "    <tr>\n",
       "      <th>1</th>\n",
       "      <td>489518</td>\n",
       "      <td>iPhone 5 64Gb</td>\n",
       "      <td>Телефон в хорошем состоянии. Комплект, гаранти...</td>\n",
       "      <td>12500.0</td>\n",
       "    </tr>\n",
       "    <tr>\n",
       "      <th>2</th>\n",
       "      <td>489519</td>\n",
       "      <td>Утеплитель</td>\n",
       "      <td>ТЕПЛОПЕЛЕН-ЛИДЕР ТЕПЛА!!! Толщина утеплителя :...</td>\n",
       "      <td>250.0</td>\n",
       "    </tr>\n",
       "  </tbody>\n",
       "</table>\n",
       "</div>"
      ],
      "text/plain": [
       "   item_id                   title  \\\n",
       "0   489517  Стоик журнальный сталь   \n",
       "1   489518           iPhone 5 64Gb   \n",
       "2   489519              Утеплитель   \n",
       "\n",
       "                                         description    price  \n",
       "0  продам журнальный столик изготавливаю столы из...  10000.0  \n",
       "1  Телефон в хорошем состоянии. Комплект, гаранти...  12500.0  \n",
       "2  ТЕПЛОПЕЛЕН-ЛИДЕР ТЕПЛА!!! Толщина утеплителя :...    250.0  "
      ]
     },
     "execution_count": 82,
     "metadata": {
      "tags": []
     },
     "output_type": "execute_result"
    }
   ],
   "source": [
    "t = read_data('test.csv')\n",
    "t.head(3)"
   ]
  },
  {
   "cell_type": "code",
   "execution_count": 83,
   "metadata": {
    "colab": {
     "base_uri": "https://localhost:8080/",
     "height": 175
    },
    "colab_type": "code",
    "id": "xsW85N7cLH4f",
    "outputId": "960f92ff-a3dc-4df1-f268-976632d8d2dd"
   },
   "outputs": [
    {
     "data": {
      "text/html": [
       "<div>\n",
       "<style scoped>\n",
       "    .dataframe tbody tr th:only-of-type {\n",
       "        vertical-align: middle;\n",
       "    }\n",
       "\n",
       "    .dataframe tbody tr th {\n",
       "        vertical-align: top;\n",
       "    }\n",
       "\n",
       "    .dataframe thead th {\n",
       "        text-align: right;\n",
       "    }\n",
       "</style>\n",
       "<table border=\"1\" class=\"dataframe\">\n",
       "  <thead>\n",
       "    <tr style=\"text-align: right;\">\n",
       "      <th></th>\n",
       "      <th>category_id</th>\n",
       "    </tr>\n",
       "    <tr>\n",
       "      <th>item_id</th>\n",
       "      <th></th>\n",
       "    </tr>\n",
       "  </thead>\n",
       "  <tbody>\n",
       "    <tr>\n",
       "      <th>489517</th>\n",
       "      <td>22</td>\n",
       "    </tr>\n",
       "    <tr>\n",
       "      <th>489518</th>\n",
       "      <td>0</td>\n",
       "    </tr>\n",
       "    <tr>\n",
       "      <th>489519</th>\n",
       "      <td>15</td>\n",
       "    </tr>\n",
       "  </tbody>\n",
       "</table>\n",
       "</div>"
      ],
      "text/plain": [
       "         category_id\n",
       "item_id             \n",
       "489517            22\n",
       "489518             0\n",
       "489519            15"
      ]
     },
     "execution_count": 83,
     "metadata": {
      "tags": []
     },
     "output_type": "execute_result"
    }
   ],
   "source": [
    "test_preds = pd.DataFrame([t.item_id.values, preds_test], ).T\n",
    "test_preds.columns = ['item_id', 'category_id']\n",
    "test_preds = test_preds.set_index('item_id')\n",
    "test_preds.head(3)"
   ]
  },
  {
   "cell_type": "code",
   "execution_count": 0,
   "metadata": {
    "colab": {},
    "colab_type": "code",
    "id": "d2kWTX0HLg1H"
   },
   "outputs": [],
   "source": [
    "assert test_preds.shape[0] == t.shape[0]"
   ]
  },
  {
   "cell_type": "code",
   "execution_count": 0,
   "metadata": {
    "colab": {},
    "colab_type": "code",
    "id": "hldwpYZOLgwH"
   },
   "outputs": [],
   "source": [
    "save_data(test_preds, \"predictions_for_test_data.csv\")"
   ]
  }
 ],
 "metadata": {
  "accelerator": "GPU",
  "colab": {
   "collapsed_sections": [],
   "name": "Stacking xgboost of fasttext.ipynb",
   "provenance": [],
   "version": "0.3.2"
  },
  "kernelspec": {
   "display_name": "Python 3",
   "language": "python",
   "name": "python3"
  },
  "language_info": {
   "codemirror_mode": {
    "name": "ipython",
    "version": 3
   },
   "file_extension": ".py",
   "mimetype": "text/x-python",
   "name": "python",
   "nbconvert_exporter": "python",
   "pygments_lexer": "ipython3",
   "version": "3.6.7"
  }
 },
 "nbformat": 4,
 "nbformat_minor": 1
}
